{
  "nbformat": 4,
  "nbformat_minor": 0,
  "metadata": {
    "colab": {
      "provenance": []
    },
    "kernelspec": {
      "name": "python3",
      "display_name": "Python 3"
    },
    "language_info": {
      "name": "python"
    }
  },
  "cells": [
    {
      "cell_type": "markdown",
      "source": [
        "# Intervalos de Confianza y Muestreo"
      ],
      "metadata": {
        "id": "0HbKhh6Ah_Wg"
      }
    },
    {
      "cell_type": "code",
      "execution_count": 1,
      "metadata": {
        "id": "TCwbg3rbEV4B"
      },
      "outputs": [],
      "source": [
        "# importar las librerías necesarías.\n",
        "\n",
        "import pandas as pd\n",
        "import numpy as np\n",
        "import matplotlib.pyplot as plt\n",
        "import seaborn as sns\n",
        "import statistics as st"
      ]
    },
    {
      "cell_type": "code",
      "source": [
        "# leer el dataframe\n",
        "\n",
        "df = pd.read_csv('Spotify31.csv')"
      ],
      "metadata": {
        "id": "mrgFSiSNEpx9"
      },
      "execution_count": 2,
      "outputs": []
    },
    {
      "cell_type": "code",
      "source": [
        "df"
      ],
      "metadata": {
        "colab": {
          "base_uri": "https://localhost:8080/",
          "height": 424
        },
        "id": "u8A4o-rDEvxA",
        "outputId": "e0a7a20c-39c2-4a69-f36b-2a4a073ac263"
      },
      "execution_count": 3,
      "outputs": [
        {
          "output_type": "execute_result",
          "data": {
            "text/plain": [
              "      duration_min  year  popularity  danceability  energy  loudness  mode  \\\n",
              "0             3.31  2000          86         0.751   0.834    -5.444     0   \n",
              "1             2.47  1999          88         0.434   0.897    -4.918     1   \n",
              "2             2.47  1999          88         0.434   0.897    -4.918     1   \n",
              "3             4.11  1999          74         0.529   0.496    -9.007     1   \n",
              "4             4.11  1999          74         0.529   0.496    -9.007     1   \n",
              "...            ...   ...         ...           ...     ...       ...   ...   \n",
              "3674          2.58  2019          87         0.552   0.702    -5.707     1   \n",
              "3675          3.21  2019          77         0.847   0.678    -8.635     1   \n",
              "3676          3.21  2019          77         0.847   0.678    -8.635     1   \n",
              "3677          2.51  2019          84         0.741   0.520    -7.513     1   \n",
              "3678          3.35  2019          95         0.695   0.762    -3.497     1   \n",
              "\n",
              "      speechiness  liveness  valence    tempo  Generos   period  \n",
              "0          0.0437    0.3550    0.894   95.053      Pop  1-98/04  \n",
              "1          0.0488    0.6120    0.684  148.726      Pop  1-98/04  \n",
              "2          0.0488    0.6120    0.684  148.726     Rock  1-98/04  \n",
              "3          0.0290    0.2510    0.278  136.859      Pop  1-98/04  \n",
              "4          0.0290    0.2510    0.278  136.859  Country  1-98/04  \n",
              "...           ...       ...      ...      ...      ...      ...  \n",
              "3674       0.1570    0.1050    0.564  169.994      Pop  4-16/20  \n",
              "3675       0.1090    0.2740    0.811   97.984  Country  4-16/20  \n",
              "3676       0.1090    0.2740    0.811   97.984  Hip-Hop  4-16/20  \n",
              "3677       0.0656    0.2220    0.347  102.998      Pop  4-16/20  \n",
              "3678       0.0395    0.0863    0.553  120.042  Hip-Hop  4-16/20  \n",
              "\n",
              "[3679 rows x 13 columns]"
            ],
            "text/html": [
              "\n",
              "  <div id=\"df-c95371c5-4992-4ff7-b005-12ffbebaf747\" class=\"colab-df-container\">\n",
              "    <div>\n",
              "<style scoped>\n",
              "    .dataframe tbody tr th:only-of-type {\n",
              "        vertical-align: middle;\n",
              "    }\n",
              "\n",
              "    .dataframe tbody tr th {\n",
              "        vertical-align: top;\n",
              "    }\n",
              "\n",
              "    .dataframe thead th {\n",
              "        text-align: right;\n",
              "    }\n",
              "</style>\n",
              "<table border=\"1\" class=\"dataframe\">\n",
              "  <thead>\n",
              "    <tr style=\"text-align: right;\">\n",
              "      <th></th>\n",
              "      <th>duration_min</th>\n",
              "      <th>year</th>\n",
              "      <th>popularity</th>\n",
              "      <th>danceability</th>\n",
              "      <th>energy</th>\n",
              "      <th>loudness</th>\n",
              "      <th>mode</th>\n",
              "      <th>speechiness</th>\n",
              "      <th>liveness</th>\n",
              "      <th>valence</th>\n",
              "      <th>tempo</th>\n",
              "      <th>Generos</th>\n",
              "      <th>period</th>\n",
              "    </tr>\n",
              "  </thead>\n",
              "  <tbody>\n",
              "    <tr>\n",
              "      <th>0</th>\n",
              "      <td>3.31</td>\n",
              "      <td>2000</td>\n",
              "      <td>86</td>\n",
              "      <td>0.751</td>\n",
              "      <td>0.834</td>\n",
              "      <td>-5.444</td>\n",
              "      <td>0</td>\n",
              "      <td>0.0437</td>\n",
              "      <td>0.3550</td>\n",
              "      <td>0.894</td>\n",
              "      <td>95.053</td>\n",
              "      <td>Pop</td>\n",
              "      <td>1-98/04</td>\n",
              "    </tr>\n",
              "    <tr>\n",
              "      <th>1</th>\n",
              "      <td>2.47</td>\n",
              "      <td>1999</td>\n",
              "      <td>88</td>\n",
              "      <td>0.434</td>\n",
              "      <td>0.897</td>\n",
              "      <td>-4.918</td>\n",
              "      <td>1</td>\n",
              "      <td>0.0488</td>\n",
              "      <td>0.6120</td>\n",
              "      <td>0.684</td>\n",
              "      <td>148.726</td>\n",
              "      <td>Pop</td>\n",
              "      <td>1-98/04</td>\n",
              "    </tr>\n",
              "    <tr>\n",
              "      <th>2</th>\n",
              "      <td>2.47</td>\n",
              "      <td>1999</td>\n",
              "      <td>88</td>\n",
              "      <td>0.434</td>\n",
              "      <td>0.897</td>\n",
              "      <td>-4.918</td>\n",
              "      <td>1</td>\n",
              "      <td>0.0488</td>\n",
              "      <td>0.6120</td>\n",
              "      <td>0.684</td>\n",
              "      <td>148.726</td>\n",
              "      <td>Rock</td>\n",
              "      <td>1-98/04</td>\n",
              "    </tr>\n",
              "    <tr>\n",
              "      <th>3</th>\n",
              "      <td>4.11</td>\n",
              "      <td>1999</td>\n",
              "      <td>74</td>\n",
              "      <td>0.529</td>\n",
              "      <td>0.496</td>\n",
              "      <td>-9.007</td>\n",
              "      <td>1</td>\n",
              "      <td>0.0290</td>\n",
              "      <td>0.2510</td>\n",
              "      <td>0.278</td>\n",
              "      <td>136.859</td>\n",
              "      <td>Pop</td>\n",
              "      <td>1-98/04</td>\n",
              "    </tr>\n",
              "    <tr>\n",
              "      <th>4</th>\n",
              "      <td>4.11</td>\n",
              "      <td>1999</td>\n",
              "      <td>74</td>\n",
              "      <td>0.529</td>\n",
              "      <td>0.496</td>\n",
              "      <td>-9.007</td>\n",
              "      <td>1</td>\n",
              "      <td>0.0290</td>\n",
              "      <td>0.2510</td>\n",
              "      <td>0.278</td>\n",
              "      <td>136.859</td>\n",
              "      <td>Country</td>\n",
              "      <td>1-98/04</td>\n",
              "    </tr>\n",
              "    <tr>\n",
              "      <th>...</th>\n",
              "      <td>...</td>\n",
              "      <td>...</td>\n",
              "      <td>...</td>\n",
              "      <td>...</td>\n",
              "      <td>...</td>\n",
              "      <td>...</td>\n",
              "      <td>...</td>\n",
              "      <td>...</td>\n",
              "      <td>...</td>\n",
              "      <td>...</td>\n",
              "      <td>...</td>\n",
              "      <td>...</td>\n",
              "      <td>...</td>\n",
              "    </tr>\n",
              "    <tr>\n",
              "      <th>3674</th>\n",
              "      <td>2.58</td>\n",
              "      <td>2019</td>\n",
              "      <td>87</td>\n",
              "      <td>0.552</td>\n",
              "      <td>0.702</td>\n",
              "      <td>-5.707</td>\n",
              "      <td>1</td>\n",
              "      <td>0.1570</td>\n",
              "      <td>0.1050</td>\n",
              "      <td>0.564</td>\n",
              "      <td>169.994</td>\n",
              "      <td>Pop</td>\n",
              "      <td>4-16/20</td>\n",
              "    </tr>\n",
              "    <tr>\n",
              "      <th>3675</th>\n",
              "      <td>3.21</td>\n",
              "      <td>2019</td>\n",
              "      <td>77</td>\n",
              "      <td>0.847</td>\n",
              "      <td>0.678</td>\n",
              "      <td>-8.635</td>\n",
              "      <td>1</td>\n",
              "      <td>0.1090</td>\n",
              "      <td>0.2740</td>\n",
              "      <td>0.811</td>\n",
              "      <td>97.984</td>\n",
              "      <td>Country</td>\n",
              "      <td>4-16/20</td>\n",
              "    </tr>\n",
              "    <tr>\n",
              "      <th>3676</th>\n",
              "      <td>3.21</td>\n",
              "      <td>2019</td>\n",
              "      <td>77</td>\n",
              "      <td>0.847</td>\n",
              "      <td>0.678</td>\n",
              "      <td>-8.635</td>\n",
              "      <td>1</td>\n",
              "      <td>0.1090</td>\n",
              "      <td>0.2740</td>\n",
              "      <td>0.811</td>\n",
              "      <td>97.984</td>\n",
              "      <td>Hip-Hop</td>\n",
              "      <td>4-16/20</td>\n",
              "    </tr>\n",
              "    <tr>\n",
              "      <th>3677</th>\n",
              "      <td>2.51</td>\n",
              "      <td>2019</td>\n",
              "      <td>84</td>\n",
              "      <td>0.741</td>\n",
              "      <td>0.520</td>\n",
              "      <td>-7.513</td>\n",
              "      <td>1</td>\n",
              "      <td>0.0656</td>\n",
              "      <td>0.2220</td>\n",
              "      <td>0.347</td>\n",
              "      <td>102.998</td>\n",
              "      <td>Pop</td>\n",
              "      <td>4-16/20</td>\n",
              "    </tr>\n",
              "    <tr>\n",
              "      <th>3678</th>\n",
              "      <td>3.35</td>\n",
              "      <td>2019</td>\n",
              "      <td>95</td>\n",
              "      <td>0.695</td>\n",
              "      <td>0.762</td>\n",
              "      <td>-3.497</td>\n",
              "      <td>1</td>\n",
              "      <td>0.0395</td>\n",
              "      <td>0.0863</td>\n",
              "      <td>0.553</td>\n",
              "      <td>120.042</td>\n",
              "      <td>Hip-Hop</td>\n",
              "      <td>4-16/20</td>\n",
              "    </tr>\n",
              "  </tbody>\n",
              "</table>\n",
              "<p>3679 rows × 13 columns</p>\n",
              "</div>\n",
              "    <div class=\"colab-df-buttons\">\n",
              "\n",
              "  <div class=\"colab-df-container\">\n",
              "    <button class=\"colab-df-convert\" onclick=\"convertToInteractive('df-c95371c5-4992-4ff7-b005-12ffbebaf747')\"\n",
              "            title=\"Convert this dataframe to an interactive table.\"\n",
              "            style=\"display:none;\">\n",
              "\n",
              "  <svg xmlns=\"http://www.w3.org/2000/svg\" height=\"24px\" viewBox=\"0 -960 960 960\">\n",
              "    <path d=\"M120-120v-720h720v720H120Zm60-500h600v-160H180v160Zm220 220h160v-160H400v160Zm0 220h160v-160H400v160ZM180-400h160v-160H180v160Zm440 0h160v-160H620v160ZM180-180h160v-160H180v160Zm440 0h160v-160H620v160Z\"/>\n",
              "  </svg>\n",
              "    </button>\n",
              "\n",
              "  <style>\n",
              "    .colab-df-container {\n",
              "      display:flex;\n",
              "      gap: 12px;\n",
              "    }\n",
              "\n",
              "    .colab-df-convert {\n",
              "      background-color: #E8F0FE;\n",
              "      border: none;\n",
              "      border-radius: 50%;\n",
              "      cursor: pointer;\n",
              "      display: none;\n",
              "      fill: #1967D2;\n",
              "      height: 32px;\n",
              "      padding: 0 0 0 0;\n",
              "      width: 32px;\n",
              "    }\n",
              "\n",
              "    .colab-df-convert:hover {\n",
              "      background-color: #E2EBFA;\n",
              "      box-shadow: 0px 1px 2px rgba(60, 64, 67, 0.3), 0px 1px 3px 1px rgba(60, 64, 67, 0.15);\n",
              "      fill: #174EA6;\n",
              "    }\n",
              "\n",
              "    .colab-df-buttons div {\n",
              "      margin-bottom: 4px;\n",
              "    }\n",
              "\n",
              "    [theme=dark] .colab-df-convert {\n",
              "      background-color: #3B4455;\n",
              "      fill: #D2E3FC;\n",
              "    }\n",
              "\n",
              "    [theme=dark] .colab-df-convert:hover {\n",
              "      background-color: #434B5C;\n",
              "      box-shadow: 0px 1px 3px 1px rgba(0, 0, 0, 0.15);\n",
              "      filter: drop-shadow(0px 1px 2px rgba(0, 0, 0, 0.3));\n",
              "      fill: #FFFFFF;\n",
              "    }\n",
              "  </style>\n",
              "\n",
              "    <script>\n",
              "      const buttonEl =\n",
              "        document.querySelector('#df-c95371c5-4992-4ff7-b005-12ffbebaf747 button.colab-df-convert');\n",
              "      buttonEl.style.display =\n",
              "        google.colab.kernel.accessAllowed ? 'block' : 'none';\n",
              "\n",
              "      async function convertToInteractive(key) {\n",
              "        const element = document.querySelector('#df-c95371c5-4992-4ff7-b005-12ffbebaf747');\n",
              "        const dataTable =\n",
              "          await google.colab.kernel.invokeFunction('convertToInteractive',\n",
              "                                                    [key], {});\n",
              "        if (!dataTable) return;\n",
              "\n",
              "        const docLinkHtml = 'Like what you see? Visit the ' +\n",
              "          '<a target=\"_blank\" href=https://colab.research.google.com/notebooks/data_table.ipynb>data table notebook</a>'\n",
              "          + ' to learn more about interactive tables.';\n",
              "        element.innerHTML = '';\n",
              "        dataTable['output_type'] = 'display_data';\n",
              "        await google.colab.output.renderOutput(dataTable, element);\n",
              "        const docLink = document.createElement('div');\n",
              "        docLink.innerHTML = docLinkHtml;\n",
              "        element.appendChild(docLink);\n",
              "      }\n",
              "    </script>\n",
              "  </div>\n",
              "\n",
              "\n",
              "<div id=\"df-34869582-786a-451b-b633-74402c1d6bb6\">\n",
              "  <button class=\"colab-df-quickchart\" onclick=\"quickchart('df-34869582-786a-451b-b633-74402c1d6bb6')\"\n",
              "            title=\"Suggest charts\"\n",
              "            style=\"display:none;\">\n",
              "\n",
              "<svg xmlns=\"http://www.w3.org/2000/svg\" height=\"24px\"viewBox=\"0 0 24 24\"\n",
              "     width=\"24px\">\n",
              "    <g>\n",
              "        <path d=\"M19 3H5c-1.1 0-2 .9-2 2v14c0 1.1.9 2 2 2h14c1.1 0 2-.9 2-2V5c0-1.1-.9-2-2-2zM9 17H7v-7h2v7zm4 0h-2V7h2v10zm4 0h-2v-4h2v4z\"/>\n",
              "    </g>\n",
              "</svg>\n",
              "  </button>\n",
              "\n",
              "<style>\n",
              "  .colab-df-quickchart {\n",
              "      --bg-color: #E8F0FE;\n",
              "      --fill-color: #1967D2;\n",
              "      --hover-bg-color: #E2EBFA;\n",
              "      --hover-fill-color: #174EA6;\n",
              "      --disabled-fill-color: #AAA;\n",
              "      --disabled-bg-color: #DDD;\n",
              "  }\n",
              "\n",
              "  [theme=dark] .colab-df-quickchart {\n",
              "      --bg-color: #3B4455;\n",
              "      --fill-color: #D2E3FC;\n",
              "      --hover-bg-color: #434B5C;\n",
              "      --hover-fill-color: #FFFFFF;\n",
              "      --disabled-bg-color: #3B4455;\n",
              "      --disabled-fill-color: #666;\n",
              "  }\n",
              "\n",
              "  .colab-df-quickchart {\n",
              "    background-color: var(--bg-color);\n",
              "    border: none;\n",
              "    border-radius: 50%;\n",
              "    cursor: pointer;\n",
              "    display: none;\n",
              "    fill: var(--fill-color);\n",
              "    height: 32px;\n",
              "    padding: 0;\n",
              "    width: 32px;\n",
              "  }\n",
              "\n",
              "  .colab-df-quickchart:hover {\n",
              "    background-color: var(--hover-bg-color);\n",
              "    box-shadow: 0 1px 2px rgba(60, 64, 67, 0.3), 0 1px 3px 1px rgba(60, 64, 67, 0.15);\n",
              "    fill: var(--button-hover-fill-color);\n",
              "  }\n",
              "\n",
              "  .colab-df-quickchart-complete:disabled,\n",
              "  .colab-df-quickchart-complete:disabled:hover {\n",
              "    background-color: var(--disabled-bg-color);\n",
              "    fill: var(--disabled-fill-color);\n",
              "    box-shadow: none;\n",
              "  }\n",
              "\n",
              "  .colab-df-spinner {\n",
              "    border: 2px solid var(--fill-color);\n",
              "    border-color: transparent;\n",
              "    border-bottom-color: var(--fill-color);\n",
              "    animation:\n",
              "      spin 1s steps(1) infinite;\n",
              "  }\n",
              "\n",
              "  @keyframes spin {\n",
              "    0% {\n",
              "      border-color: transparent;\n",
              "      border-bottom-color: var(--fill-color);\n",
              "      border-left-color: var(--fill-color);\n",
              "    }\n",
              "    20% {\n",
              "      border-color: transparent;\n",
              "      border-left-color: var(--fill-color);\n",
              "      border-top-color: var(--fill-color);\n",
              "    }\n",
              "    30% {\n",
              "      border-color: transparent;\n",
              "      border-left-color: var(--fill-color);\n",
              "      border-top-color: var(--fill-color);\n",
              "      border-right-color: var(--fill-color);\n",
              "    }\n",
              "    40% {\n",
              "      border-color: transparent;\n",
              "      border-right-color: var(--fill-color);\n",
              "      border-top-color: var(--fill-color);\n",
              "    }\n",
              "    60% {\n",
              "      border-color: transparent;\n",
              "      border-right-color: var(--fill-color);\n",
              "    }\n",
              "    80% {\n",
              "      border-color: transparent;\n",
              "      border-right-color: var(--fill-color);\n",
              "      border-bottom-color: var(--fill-color);\n",
              "    }\n",
              "    90% {\n",
              "      border-color: transparent;\n",
              "      border-bottom-color: var(--fill-color);\n",
              "    }\n",
              "  }\n",
              "</style>\n",
              "\n",
              "  <script>\n",
              "    async function quickchart(key) {\n",
              "      const quickchartButtonEl =\n",
              "        document.querySelector('#' + key + ' button');\n",
              "      quickchartButtonEl.disabled = true;  // To prevent multiple clicks.\n",
              "      quickchartButtonEl.classList.add('colab-df-spinner');\n",
              "      try {\n",
              "        const charts = await google.colab.kernel.invokeFunction(\n",
              "            'suggestCharts', [key], {});\n",
              "      } catch (error) {\n",
              "        console.error('Error during call to suggestCharts:', error);\n",
              "      }\n",
              "      quickchartButtonEl.classList.remove('colab-df-spinner');\n",
              "      quickchartButtonEl.classList.add('colab-df-quickchart-complete');\n",
              "    }\n",
              "    (() => {\n",
              "      let quickchartButtonEl =\n",
              "        document.querySelector('#df-34869582-786a-451b-b633-74402c1d6bb6 button');\n",
              "      quickchartButtonEl.style.display =\n",
              "        google.colab.kernel.accessAllowed ? 'block' : 'none';\n",
              "    })();\n",
              "  </script>\n",
              "</div>\n",
              "\n",
              "  <div id=\"id_97c1af54-1e57-4bdd-bc72-cd595f202665\">\n",
              "    <style>\n",
              "      .colab-df-generate {\n",
              "        background-color: #E8F0FE;\n",
              "        border: none;\n",
              "        border-radius: 50%;\n",
              "        cursor: pointer;\n",
              "        display: none;\n",
              "        fill: #1967D2;\n",
              "        height: 32px;\n",
              "        padding: 0 0 0 0;\n",
              "        width: 32px;\n",
              "      }\n",
              "\n",
              "      .colab-df-generate:hover {\n",
              "        background-color: #E2EBFA;\n",
              "        box-shadow: 0px 1px 2px rgba(60, 64, 67, 0.3), 0px 1px 3px 1px rgba(60, 64, 67, 0.15);\n",
              "        fill: #174EA6;\n",
              "      }\n",
              "\n",
              "      [theme=dark] .colab-df-generate {\n",
              "        background-color: #3B4455;\n",
              "        fill: #D2E3FC;\n",
              "      }\n",
              "\n",
              "      [theme=dark] .colab-df-generate:hover {\n",
              "        background-color: #434B5C;\n",
              "        box-shadow: 0px 1px 3px 1px rgba(0, 0, 0, 0.15);\n",
              "        filter: drop-shadow(0px 1px 2px rgba(0, 0, 0, 0.3));\n",
              "        fill: #FFFFFF;\n",
              "      }\n",
              "    </style>\n",
              "    <button class=\"colab-df-generate\" onclick=\"generateWithVariable('df')\"\n",
              "            title=\"Generate code using this dataframe.\"\n",
              "            style=\"display:none;\">\n",
              "\n",
              "  <svg xmlns=\"http://www.w3.org/2000/svg\" height=\"24px\"viewBox=\"0 0 24 24\"\n",
              "       width=\"24px\">\n",
              "    <path d=\"M7,19H8.4L18.45,9,17,7.55,7,17.6ZM5,21V16.75L18.45,3.32a2,2,0,0,1,2.83,0l1.4,1.43a1.91,1.91,0,0,1,.58,1.4,1.91,1.91,0,0,1-.58,1.4L9.25,21ZM18.45,9,17,7.55Zm-12,3A5.31,5.31,0,0,0,4.9,8.1,5.31,5.31,0,0,0,1,6.5,5.31,5.31,0,0,0,4.9,4.9,5.31,5.31,0,0,0,6.5,1,5.31,5.31,0,0,0,8.1,4.9,5.31,5.31,0,0,0,12,6.5,5.46,5.46,0,0,0,6.5,12Z\"/>\n",
              "  </svg>\n",
              "    </button>\n",
              "    <script>\n",
              "      (() => {\n",
              "      const buttonEl =\n",
              "        document.querySelector('#id_97c1af54-1e57-4bdd-bc72-cd595f202665 button.colab-df-generate');\n",
              "      buttonEl.style.display =\n",
              "        google.colab.kernel.accessAllowed ? 'block' : 'none';\n",
              "\n",
              "      buttonEl.onclick = () => {\n",
              "        google.colab.notebook.generateWithVariable('df');\n",
              "      }\n",
              "      })();\n",
              "    </script>\n",
              "  </div>\n",
              "\n",
              "    </div>\n",
              "  </div>\n"
            ],
            "application/vnd.google.colaboratory.intrinsic+json": {
              "type": "dataframe",
              "variable_name": "df",
              "summary": "{\n  \"name\": \"df\",\n  \"rows\": 3679,\n  \"fields\": [\n    {\n      \"column\": \"duration_min\",\n      \"properties\": {\n        \"dtype\": \"number\",\n        \"std\": 0.62944647979833,\n        \"min\": 1.53,\n        \"max\": 8.04,\n        \"num_unique_values\": 215,\n        \"samples\": [\n          5.43,\n          1.55,\n          4.18\n        ],\n        \"semantic_type\": \"\",\n        \"description\": \"\"\n      }\n    },\n    {\n      \"column\": \"year\",\n      \"properties\": {\n        \"dtype\": \"number\",\n        \"std\": 5,\n        \"min\": 1998,\n        \"max\": 2020,\n        \"num_unique_values\": 23,\n        \"samples\": [\n          2013,\n          2010,\n          2000\n        ],\n        \"semantic_type\": \"\",\n        \"description\": \"\"\n      }\n    },\n    {\n      \"column\": \"popularity\",\n      \"properties\": {\n        \"dtype\": \"number\",\n        \"std\": 23,\n        \"min\": 0,\n        \"max\": 100,\n        \"num_unique_values\": 75,\n        \"samples\": [\n          73,\n          31,\n          62\n        ],\n        \"semantic_type\": \"\",\n        \"description\": \"\"\n      }\n    },\n    {\n      \"column\": \"danceability\",\n      \"properties\": {\n        \"dtype\": \"number\",\n        \"std\": 0.13881141995859222,\n        \"min\": 0.129,\n        \"max\": 0.975,\n        \"num_unique_values\": 563,\n        \"samples\": [\n          0.595,\n          0.521,\n          0.758\n        ],\n        \"semantic_type\": \"\",\n        \"description\": \"\"\n      }\n    },\n    {\n      \"column\": \"energy\",\n      \"properties\": {\n        \"dtype\": \"number\",\n        \"std\": 0.1511153489780308,\n        \"min\": 0.0549,\n        \"max\": 0.999,\n        \"num_unique_values\": 578,\n        \"samples\": [\n          0.459,\n          0.704,\n          0.784\n        ],\n        \"semantic_type\": \"\",\n        \"description\": \"\"\n      }\n    },\n    {\n      \"column\": \"loudness\",\n      \"properties\": {\n        \"dtype\": \"number\",\n        \"std\": 1.9180877847927593,\n        \"min\": -20.514,\n        \"max\": -0.276,\n        \"num_unique_values\": 1656,\n        \"samples\": [\n          -3.023,\n          -6.022,\n          -8.871\n        ],\n        \"semantic_type\": \"\",\n        \"description\": \"\"\n      }\n    },\n    {\n      \"column\": \"mode\",\n      \"properties\": {\n        \"dtype\": \"number\",\n        \"std\": 0,\n        \"min\": 0,\n        \"max\": 1,\n        \"num_unique_values\": 2,\n        \"samples\": [\n          1,\n          0\n        ],\n        \"semantic_type\": \"\",\n        \"description\": \"\"\n      }\n    },\n    {\n      \"column\": \"speechiness\",\n      \"properties\": {\n        \"dtype\": \"number\",\n        \"std\": 0.0956746874163104,\n        \"min\": 0.0232,\n        \"max\": 0.576,\n        \"num_unique_values\": 834,\n        \"samples\": [\n          0.0721,\n          0.461\n        ],\n        \"semantic_type\": \"\",\n        \"description\": \"\"\n      }\n    },\n    {\n      \"column\": \"liveness\",\n      \"properties\": {\n        \"dtype\": \"number\",\n        \"std\": 0.1416213958921707,\n        \"min\": 0.0215,\n        \"max\": 0.853,\n        \"num_unique_values\": 781,\n        \"samples\": [\n          0.0955,\n          0.276\n        ],\n        \"semantic_type\": \"\",\n        \"description\": \"\"\n      }\n    },\n    {\n      \"column\": \"valence\",\n      \"properties\": {\n        \"dtype\": \"number\",\n        \"std\": 0.21909724729601673,\n        \"min\": 0.0381,\n        \"max\": 0.973,\n        \"num_unique_values\": 759,\n        \"samples\": [\n          0.172,\n          0.321\n        ],\n        \"semantic_type\": \"\",\n        \"description\": \"\"\n      }\n    },\n    {\n      \"column\": \"tempo\",\n      \"properties\": {\n        \"dtype\": \"number\",\n        \"std\": 26.825062629089743,\n        \"min\": 60.019,\n        \"max\": 210.851,\n        \"num_unique_values\": 1813,\n        \"samples\": [\n          65.043,\n          168.001\n        ],\n        \"semantic_type\": \"\",\n        \"description\": \"\"\n      }\n    },\n    {\n      \"column\": \"Generos\",\n      \"properties\": {\n        \"dtype\": \"category\",\n        \"num_unique_values\": 12,\n        \"samples\": [\n          \"Blues\",\n          \"Latin\"\n        ],\n        \"semantic_type\": \"\",\n        \"description\": \"\"\n      }\n    },\n    {\n      \"column\": \"period\",\n      \"properties\": {\n        \"dtype\": \"category\",\n        \"num_unique_values\": 4,\n        \"samples\": [\n          \"3-11/15\",\n          \"2-05/10\"\n        ],\n        \"semantic_type\": \"\",\n        \"description\": \"\"\n      }\n    }\n  ]\n}"
            }
          },
          "metadata": {},
          "execution_count": 3
        }
      ]
    },
    {
      "cell_type": "code",
      "source": [
        "df.head()"
      ],
      "metadata": {
        "colab": {
          "base_uri": "https://localhost:8080/",
          "height": 206
        },
        "id": "t0GV8AeyLGab",
        "outputId": "a652b8a5-c8f0-41d7-f9e2-7b7f9f9d3450"
      },
      "execution_count": 4,
      "outputs": [
        {
          "output_type": "execute_result",
          "data": {
            "text/plain": [
              "   duration_min  year  popularity  danceability  energy  loudness  mode  \\\n",
              "0          3.31  2000          86         0.751   0.834    -5.444     0   \n",
              "1          2.47  1999          88         0.434   0.897    -4.918     1   \n",
              "2          2.47  1999          88         0.434   0.897    -4.918     1   \n",
              "3          4.11  1999          74         0.529   0.496    -9.007     1   \n",
              "4          4.11  1999          74         0.529   0.496    -9.007     1   \n",
              "\n",
              "   speechiness  liveness  valence    tempo  Generos   period  \n",
              "0       0.0437     0.355    0.894   95.053      Pop  1-98/04  \n",
              "1       0.0488     0.612    0.684  148.726      Pop  1-98/04  \n",
              "2       0.0488     0.612    0.684  148.726     Rock  1-98/04  \n",
              "3       0.0290     0.251    0.278  136.859      Pop  1-98/04  \n",
              "4       0.0290     0.251    0.278  136.859  Country  1-98/04  "
            ],
            "text/html": [
              "\n",
              "  <div id=\"df-f7cfdfaf-598f-4754-a1bc-bda51cab0109\" class=\"colab-df-container\">\n",
              "    <div>\n",
              "<style scoped>\n",
              "    .dataframe tbody tr th:only-of-type {\n",
              "        vertical-align: middle;\n",
              "    }\n",
              "\n",
              "    .dataframe tbody tr th {\n",
              "        vertical-align: top;\n",
              "    }\n",
              "\n",
              "    .dataframe thead th {\n",
              "        text-align: right;\n",
              "    }\n",
              "</style>\n",
              "<table border=\"1\" class=\"dataframe\">\n",
              "  <thead>\n",
              "    <tr style=\"text-align: right;\">\n",
              "      <th></th>\n",
              "      <th>duration_min</th>\n",
              "      <th>year</th>\n",
              "      <th>popularity</th>\n",
              "      <th>danceability</th>\n",
              "      <th>energy</th>\n",
              "      <th>loudness</th>\n",
              "      <th>mode</th>\n",
              "      <th>speechiness</th>\n",
              "      <th>liveness</th>\n",
              "      <th>valence</th>\n",
              "      <th>tempo</th>\n",
              "      <th>Generos</th>\n",
              "      <th>period</th>\n",
              "    </tr>\n",
              "  </thead>\n",
              "  <tbody>\n",
              "    <tr>\n",
              "      <th>0</th>\n",
              "      <td>3.31</td>\n",
              "      <td>2000</td>\n",
              "      <td>86</td>\n",
              "      <td>0.751</td>\n",
              "      <td>0.834</td>\n",
              "      <td>-5.444</td>\n",
              "      <td>0</td>\n",
              "      <td>0.0437</td>\n",
              "      <td>0.355</td>\n",
              "      <td>0.894</td>\n",
              "      <td>95.053</td>\n",
              "      <td>Pop</td>\n",
              "      <td>1-98/04</td>\n",
              "    </tr>\n",
              "    <tr>\n",
              "      <th>1</th>\n",
              "      <td>2.47</td>\n",
              "      <td>1999</td>\n",
              "      <td>88</td>\n",
              "      <td>0.434</td>\n",
              "      <td>0.897</td>\n",
              "      <td>-4.918</td>\n",
              "      <td>1</td>\n",
              "      <td>0.0488</td>\n",
              "      <td>0.612</td>\n",
              "      <td>0.684</td>\n",
              "      <td>148.726</td>\n",
              "      <td>Pop</td>\n",
              "      <td>1-98/04</td>\n",
              "    </tr>\n",
              "    <tr>\n",
              "      <th>2</th>\n",
              "      <td>2.47</td>\n",
              "      <td>1999</td>\n",
              "      <td>88</td>\n",
              "      <td>0.434</td>\n",
              "      <td>0.897</td>\n",
              "      <td>-4.918</td>\n",
              "      <td>1</td>\n",
              "      <td>0.0488</td>\n",
              "      <td>0.612</td>\n",
              "      <td>0.684</td>\n",
              "      <td>148.726</td>\n",
              "      <td>Rock</td>\n",
              "      <td>1-98/04</td>\n",
              "    </tr>\n",
              "    <tr>\n",
              "      <th>3</th>\n",
              "      <td>4.11</td>\n",
              "      <td>1999</td>\n",
              "      <td>74</td>\n",
              "      <td>0.529</td>\n",
              "      <td>0.496</td>\n",
              "      <td>-9.007</td>\n",
              "      <td>1</td>\n",
              "      <td>0.0290</td>\n",
              "      <td>0.251</td>\n",
              "      <td>0.278</td>\n",
              "      <td>136.859</td>\n",
              "      <td>Pop</td>\n",
              "      <td>1-98/04</td>\n",
              "    </tr>\n",
              "    <tr>\n",
              "      <th>4</th>\n",
              "      <td>4.11</td>\n",
              "      <td>1999</td>\n",
              "      <td>74</td>\n",
              "      <td>0.529</td>\n",
              "      <td>0.496</td>\n",
              "      <td>-9.007</td>\n",
              "      <td>1</td>\n",
              "      <td>0.0290</td>\n",
              "      <td>0.251</td>\n",
              "      <td>0.278</td>\n",
              "      <td>136.859</td>\n",
              "      <td>Country</td>\n",
              "      <td>1-98/04</td>\n",
              "    </tr>\n",
              "  </tbody>\n",
              "</table>\n",
              "</div>\n",
              "    <div class=\"colab-df-buttons\">\n",
              "\n",
              "  <div class=\"colab-df-container\">\n",
              "    <button class=\"colab-df-convert\" onclick=\"convertToInteractive('df-f7cfdfaf-598f-4754-a1bc-bda51cab0109')\"\n",
              "            title=\"Convert this dataframe to an interactive table.\"\n",
              "            style=\"display:none;\">\n",
              "\n",
              "  <svg xmlns=\"http://www.w3.org/2000/svg\" height=\"24px\" viewBox=\"0 -960 960 960\">\n",
              "    <path d=\"M120-120v-720h720v720H120Zm60-500h600v-160H180v160Zm220 220h160v-160H400v160Zm0 220h160v-160H400v160ZM180-400h160v-160H180v160Zm440 0h160v-160H620v160ZM180-180h160v-160H180v160Zm440 0h160v-160H620v160Z\"/>\n",
              "  </svg>\n",
              "    </button>\n",
              "\n",
              "  <style>\n",
              "    .colab-df-container {\n",
              "      display:flex;\n",
              "      gap: 12px;\n",
              "    }\n",
              "\n",
              "    .colab-df-convert {\n",
              "      background-color: #E8F0FE;\n",
              "      border: none;\n",
              "      border-radius: 50%;\n",
              "      cursor: pointer;\n",
              "      display: none;\n",
              "      fill: #1967D2;\n",
              "      height: 32px;\n",
              "      padding: 0 0 0 0;\n",
              "      width: 32px;\n",
              "    }\n",
              "\n",
              "    .colab-df-convert:hover {\n",
              "      background-color: #E2EBFA;\n",
              "      box-shadow: 0px 1px 2px rgba(60, 64, 67, 0.3), 0px 1px 3px 1px rgba(60, 64, 67, 0.15);\n",
              "      fill: #174EA6;\n",
              "    }\n",
              "\n",
              "    .colab-df-buttons div {\n",
              "      margin-bottom: 4px;\n",
              "    }\n",
              "\n",
              "    [theme=dark] .colab-df-convert {\n",
              "      background-color: #3B4455;\n",
              "      fill: #D2E3FC;\n",
              "    }\n",
              "\n",
              "    [theme=dark] .colab-df-convert:hover {\n",
              "      background-color: #434B5C;\n",
              "      box-shadow: 0px 1px 3px 1px rgba(0, 0, 0, 0.15);\n",
              "      filter: drop-shadow(0px 1px 2px rgba(0, 0, 0, 0.3));\n",
              "      fill: #FFFFFF;\n",
              "    }\n",
              "  </style>\n",
              "\n",
              "    <script>\n",
              "      const buttonEl =\n",
              "        document.querySelector('#df-f7cfdfaf-598f-4754-a1bc-bda51cab0109 button.colab-df-convert');\n",
              "      buttonEl.style.display =\n",
              "        google.colab.kernel.accessAllowed ? 'block' : 'none';\n",
              "\n",
              "      async function convertToInteractive(key) {\n",
              "        const element = document.querySelector('#df-f7cfdfaf-598f-4754-a1bc-bda51cab0109');\n",
              "        const dataTable =\n",
              "          await google.colab.kernel.invokeFunction('convertToInteractive',\n",
              "                                                    [key], {});\n",
              "        if (!dataTable) return;\n",
              "\n",
              "        const docLinkHtml = 'Like what you see? Visit the ' +\n",
              "          '<a target=\"_blank\" href=https://colab.research.google.com/notebooks/data_table.ipynb>data table notebook</a>'\n",
              "          + ' to learn more about interactive tables.';\n",
              "        element.innerHTML = '';\n",
              "        dataTable['output_type'] = 'display_data';\n",
              "        await google.colab.output.renderOutput(dataTable, element);\n",
              "        const docLink = document.createElement('div');\n",
              "        docLink.innerHTML = docLinkHtml;\n",
              "        element.appendChild(docLink);\n",
              "      }\n",
              "    </script>\n",
              "  </div>\n",
              "\n",
              "\n",
              "<div id=\"df-0e06c79e-e1c1-4c94-9f71-0ac6a0dcdf1d\">\n",
              "  <button class=\"colab-df-quickchart\" onclick=\"quickchart('df-0e06c79e-e1c1-4c94-9f71-0ac6a0dcdf1d')\"\n",
              "            title=\"Suggest charts\"\n",
              "            style=\"display:none;\">\n",
              "\n",
              "<svg xmlns=\"http://www.w3.org/2000/svg\" height=\"24px\"viewBox=\"0 0 24 24\"\n",
              "     width=\"24px\">\n",
              "    <g>\n",
              "        <path d=\"M19 3H5c-1.1 0-2 .9-2 2v14c0 1.1.9 2 2 2h14c1.1 0 2-.9 2-2V5c0-1.1-.9-2-2-2zM9 17H7v-7h2v7zm4 0h-2V7h2v10zm4 0h-2v-4h2v4z\"/>\n",
              "    </g>\n",
              "</svg>\n",
              "  </button>\n",
              "\n",
              "<style>\n",
              "  .colab-df-quickchart {\n",
              "      --bg-color: #E8F0FE;\n",
              "      --fill-color: #1967D2;\n",
              "      --hover-bg-color: #E2EBFA;\n",
              "      --hover-fill-color: #174EA6;\n",
              "      --disabled-fill-color: #AAA;\n",
              "      --disabled-bg-color: #DDD;\n",
              "  }\n",
              "\n",
              "  [theme=dark] .colab-df-quickchart {\n",
              "      --bg-color: #3B4455;\n",
              "      --fill-color: #D2E3FC;\n",
              "      --hover-bg-color: #434B5C;\n",
              "      --hover-fill-color: #FFFFFF;\n",
              "      --disabled-bg-color: #3B4455;\n",
              "      --disabled-fill-color: #666;\n",
              "  }\n",
              "\n",
              "  .colab-df-quickchart {\n",
              "    background-color: var(--bg-color);\n",
              "    border: none;\n",
              "    border-radius: 50%;\n",
              "    cursor: pointer;\n",
              "    display: none;\n",
              "    fill: var(--fill-color);\n",
              "    height: 32px;\n",
              "    padding: 0;\n",
              "    width: 32px;\n",
              "  }\n",
              "\n",
              "  .colab-df-quickchart:hover {\n",
              "    background-color: var(--hover-bg-color);\n",
              "    box-shadow: 0 1px 2px rgba(60, 64, 67, 0.3), 0 1px 3px 1px rgba(60, 64, 67, 0.15);\n",
              "    fill: var(--button-hover-fill-color);\n",
              "  }\n",
              "\n",
              "  .colab-df-quickchart-complete:disabled,\n",
              "  .colab-df-quickchart-complete:disabled:hover {\n",
              "    background-color: var(--disabled-bg-color);\n",
              "    fill: var(--disabled-fill-color);\n",
              "    box-shadow: none;\n",
              "  }\n",
              "\n",
              "  .colab-df-spinner {\n",
              "    border: 2px solid var(--fill-color);\n",
              "    border-color: transparent;\n",
              "    border-bottom-color: var(--fill-color);\n",
              "    animation:\n",
              "      spin 1s steps(1) infinite;\n",
              "  }\n",
              "\n",
              "  @keyframes spin {\n",
              "    0% {\n",
              "      border-color: transparent;\n",
              "      border-bottom-color: var(--fill-color);\n",
              "      border-left-color: var(--fill-color);\n",
              "    }\n",
              "    20% {\n",
              "      border-color: transparent;\n",
              "      border-left-color: var(--fill-color);\n",
              "      border-top-color: var(--fill-color);\n",
              "    }\n",
              "    30% {\n",
              "      border-color: transparent;\n",
              "      border-left-color: var(--fill-color);\n",
              "      border-top-color: var(--fill-color);\n",
              "      border-right-color: var(--fill-color);\n",
              "    }\n",
              "    40% {\n",
              "      border-color: transparent;\n",
              "      border-right-color: var(--fill-color);\n",
              "      border-top-color: var(--fill-color);\n",
              "    }\n",
              "    60% {\n",
              "      border-color: transparent;\n",
              "      border-right-color: var(--fill-color);\n",
              "    }\n",
              "    80% {\n",
              "      border-color: transparent;\n",
              "      border-right-color: var(--fill-color);\n",
              "      border-bottom-color: var(--fill-color);\n",
              "    }\n",
              "    90% {\n",
              "      border-color: transparent;\n",
              "      border-bottom-color: var(--fill-color);\n",
              "    }\n",
              "  }\n",
              "</style>\n",
              "\n",
              "  <script>\n",
              "    async function quickchart(key) {\n",
              "      const quickchartButtonEl =\n",
              "        document.querySelector('#' + key + ' button');\n",
              "      quickchartButtonEl.disabled = true;  // To prevent multiple clicks.\n",
              "      quickchartButtonEl.classList.add('colab-df-spinner');\n",
              "      try {\n",
              "        const charts = await google.colab.kernel.invokeFunction(\n",
              "            'suggestCharts', [key], {});\n",
              "      } catch (error) {\n",
              "        console.error('Error during call to suggestCharts:', error);\n",
              "      }\n",
              "      quickchartButtonEl.classList.remove('colab-df-spinner');\n",
              "      quickchartButtonEl.classList.add('colab-df-quickchart-complete');\n",
              "    }\n",
              "    (() => {\n",
              "      let quickchartButtonEl =\n",
              "        document.querySelector('#df-0e06c79e-e1c1-4c94-9f71-0ac6a0dcdf1d button');\n",
              "      quickchartButtonEl.style.display =\n",
              "        google.colab.kernel.accessAllowed ? 'block' : 'none';\n",
              "    })();\n",
              "  </script>\n",
              "</div>\n",
              "\n",
              "    </div>\n",
              "  </div>\n"
            ],
            "application/vnd.google.colaboratory.intrinsic+json": {
              "type": "dataframe",
              "variable_name": "df",
              "summary": "{\n  \"name\": \"df\",\n  \"rows\": 3679,\n  \"fields\": [\n    {\n      \"column\": \"duration_min\",\n      \"properties\": {\n        \"dtype\": \"number\",\n        \"std\": 0.62944647979833,\n        \"min\": 1.53,\n        \"max\": 8.04,\n        \"num_unique_values\": 215,\n        \"samples\": [\n          5.43,\n          1.55,\n          4.18\n        ],\n        \"semantic_type\": \"\",\n        \"description\": \"\"\n      }\n    },\n    {\n      \"column\": \"year\",\n      \"properties\": {\n        \"dtype\": \"number\",\n        \"std\": 5,\n        \"min\": 1998,\n        \"max\": 2020,\n        \"num_unique_values\": 23,\n        \"samples\": [\n          2013,\n          2010,\n          2000\n        ],\n        \"semantic_type\": \"\",\n        \"description\": \"\"\n      }\n    },\n    {\n      \"column\": \"popularity\",\n      \"properties\": {\n        \"dtype\": \"number\",\n        \"std\": 23,\n        \"min\": 0,\n        \"max\": 100,\n        \"num_unique_values\": 75,\n        \"samples\": [\n          73,\n          31,\n          62\n        ],\n        \"semantic_type\": \"\",\n        \"description\": \"\"\n      }\n    },\n    {\n      \"column\": \"danceability\",\n      \"properties\": {\n        \"dtype\": \"number\",\n        \"std\": 0.13881141995859222,\n        \"min\": 0.129,\n        \"max\": 0.975,\n        \"num_unique_values\": 563,\n        \"samples\": [\n          0.595,\n          0.521,\n          0.758\n        ],\n        \"semantic_type\": \"\",\n        \"description\": \"\"\n      }\n    },\n    {\n      \"column\": \"energy\",\n      \"properties\": {\n        \"dtype\": \"number\",\n        \"std\": 0.1511153489780308,\n        \"min\": 0.0549,\n        \"max\": 0.999,\n        \"num_unique_values\": 578,\n        \"samples\": [\n          0.459,\n          0.704,\n          0.784\n        ],\n        \"semantic_type\": \"\",\n        \"description\": \"\"\n      }\n    },\n    {\n      \"column\": \"loudness\",\n      \"properties\": {\n        \"dtype\": \"number\",\n        \"std\": 1.9180877847927593,\n        \"min\": -20.514,\n        \"max\": -0.276,\n        \"num_unique_values\": 1656,\n        \"samples\": [\n          -3.023,\n          -6.022,\n          -8.871\n        ],\n        \"semantic_type\": \"\",\n        \"description\": \"\"\n      }\n    },\n    {\n      \"column\": \"mode\",\n      \"properties\": {\n        \"dtype\": \"number\",\n        \"std\": 0,\n        \"min\": 0,\n        \"max\": 1,\n        \"num_unique_values\": 2,\n        \"samples\": [\n          1,\n          0\n        ],\n        \"semantic_type\": \"\",\n        \"description\": \"\"\n      }\n    },\n    {\n      \"column\": \"speechiness\",\n      \"properties\": {\n        \"dtype\": \"number\",\n        \"std\": 0.0956746874163104,\n        \"min\": 0.0232,\n        \"max\": 0.576,\n        \"num_unique_values\": 834,\n        \"samples\": [\n          0.0721,\n          0.461\n        ],\n        \"semantic_type\": \"\",\n        \"description\": \"\"\n      }\n    },\n    {\n      \"column\": \"liveness\",\n      \"properties\": {\n        \"dtype\": \"number\",\n        \"std\": 0.1416213958921707,\n        \"min\": 0.0215,\n        \"max\": 0.853,\n        \"num_unique_values\": 781,\n        \"samples\": [\n          0.0955,\n          0.276\n        ],\n        \"semantic_type\": \"\",\n        \"description\": \"\"\n      }\n    },\n    {\n      \"column\": \"valence\",\n      \"properties\": {\n        \"dtype\": \"number\",\n        \"std\": 0.21909724729601673,\n        \"min\": 0.0381,\n        \"max\": 0.973,\n        \"num_unique_values\": 759,\n        \"samples\": [\n          0.172,\n          0.321\n        ],\n        \"semantic_type\": \"\",\n        \"description\": \"\"\n      }\n    },\n    {\n      \"column\": \"tempo\",\n      \"properties\": {\n        \"dtype\": \"number\",\n        \"std\": 26.825062629089743,\n        \"min\": 60.019,\n        \"max\": 210.851,\n        \"num_unique_values\": 1813,\n        \"samples\": [\n          65.043,\n          168.001\n        ],\n        \"semantic_type\": \"\",\n        \"description\": \"\"\n      }\n    },\n    {\n      \"column\": \"Generos\",\n      \"properties\": {\n        \"dtype\": \"category\",\n        \"num_unique_values\": 12,\n        \"samples\": [\n          \"Blues\",\n          \"Latin\"\n        ],\n        \"semantic_type\": \"\",\n        \"description\": \"\"\n      }\n    },\n    {\n      \"column\": \"period\",\n      \"properties\": {\n        \"dtype\": \"category\",\n        \"num_unique_values\": 4,\n        \"samples\": [\n          \"3-11/15\",\n          \"2-05/10\"\n        ],\n        \"semantic_type\": \"\",\n        \"description\": \"\"\n      }\n    }\n  ]\n}"
            }
          },
          "metadata": {},
          "execution_count": 4
        }
      ]
    },
    {
      "cell_type": "code",
      "source": [
        "df.columns"
      ],
      "metadata": {
        "colab": {
          "base_uri": "https://localhost:8080/"
        },
        "id": "MQxZYDF5P25I",
        "outputId": "752ef7bd-c0f5-4976-8aff-7c5edecc6034"
      },
      "execution_count": 7,
      "outputs": [
        {
          "output_type": "execute_result",
          "data": {
            "text/plain": [
              "Index(['duration_min', 'year', 'popularity', 'danceability', 'energy',\n",
              "       'loudness', 'mode', 'speechiness', 'liveness', 'valence', 'tempo',\n",
              "       'Generos', 'period'],\n",
              "      dtype='object')"
            ]
          },
          "metadata": {},
          "execution_count": 7
        }
      ]
    },
    {
      "cell_type": "code",
      "source": [
        "# obtener los nombre de las variables a usar.\n",
        "\n",
        "names = ['duration_min', 'year', 'popularity', 'danceability', 'energy',\n",
        "       'loudness', 'mode', 'speechiness', 'liveness', 'valence', 'tempo']"
      ],
      "metadata": {
        "id": "6v8qCVKufBmz"
      },
      "execution_count": 8,
      "outputs": []
    },
    {
      "cell_type": "code",
      "source": [
        "# calcular la media del dataframe original.\n",
        "\n",
        "df_mean = list(df[names].mean())"
      ],
      "metadata": {
        "id": "dFjnMns4eqzc"
      },
      "execution_count": 9,
      "outputs": []
    },
    {
      "cell_type": "code",
      "source": [
        "df_mean"
      ],
      "metadata": {
        "colab": {
          "base_uri": "https://localhost:8080/"
        },
        "id": "Gj1FC7BXfJGe",
        "outputId": "146ccec9-829a-4e81-ee16-1da883ca89bf"
      },
      "execution_count": 10,
      "outputs": [
        {
          "output_type": "execute_result",
          "data": {
            "text/plain": [
              "[3.623452025006795,\n",
              " 2009.3419407447675,\n",
              " 66.6273443870617,\n",
              " 0.6717254688774122,\n",
              " 0.7186327806469149,\n",
              " -5.505134819244359,\n",
              " 0.5485186191899973,\n",
              " 0.10657284588203317,\n",
              " 0.18115819516172874,\n",
              " 0.5536269094862735,\n",
              " 119.7410078825768]"
            ]
          },
          "metadata": {},
          "execution_count": 10
        }
      ]
    },
    {
      "cell_type": "markdown",
      "source": [
        "# Muestreo"
      ],
      "metadata": {
        "id": "eqTjrtmijdCz"
      }
    },
    {
      "cell_type": "markdown",
      "source": [
        "### Muestreo de tamaño 10"
      ],
      "metadata": {
        "id": "H8fXxtirjeol"
      }
    },
    {
      "cell_type": "code",
      "source": [
        "mues1_10 = df.sample(10, random_state = 42)\n",
        "mues2_10 = df.sample(10, random_state = 42)\n",
        "mues3_10 = df.sample(10, random_state = 42)\n",
        "mues4_10 = df.sample(10, random_state = 42)\n",
        "mues5_10 = df.sample(10, random_state = 42)"
      ],
      "metadata": {
        "id": "hNcWamGsTTqO"
      },
      "execution_count": 11,
      "outputs": []
    },
    {
      "cell_type": "markdown",
      "source": [
        "### Muestreo de tamaño 30"
      ],
      "metadata": {
        "id": "gbw6zHgeji9X"
      }
    },
    {
      "cell_type": "code",
      "source": [
        "mues1_30 = df.sample(30, random_state = 42)\n",
        "mues2_30 = df.sample(30, random_state = 42)\n",
        "mues3_30 = df.sample(30, random_state = 42)\n",
        "mues4_30 = df.sample(30, random_state = 42)\n",
        "mues5_30 = df.sample(30, random_state = 42)"
      ],
      "metadata": {
        "id": "3BYkpj5XSV6u"
      },
      "execution_count": 12,
      "outputs": []
    },
    {
      "cell_type": "markdown",
      "source": [
        "### Muestreo de tamaño 50"
      ],
      "metadata": {
        "id": "p7BObiNOjmzC"
      }
    },
    {
      "cell_type": "code",
      "source": [
        "mues1_50 = df.sample(50, random_state = 42)\n",
        "mues2_50 = df.sample(50, random_state = 42)\n",
        "mues3_50 = df.sample(50, random_state = 42)\n",
        "mues4_50 = df.sample(50, random_state = 42)\n",
        "mues5_50 = df.sample(50, random_state = 42)"
      ],
      "metadata": {
        "id": "quPdegMLTZPZ"
      },
      "execution_count": 13,
      "outputs": []
    },
    {
      "cell_type": "markdown",
      "source": [
        "### Muestreo de tamaño 100"
      ],
      "metadata": {
        "id": "WkOD9uaGjoeS"
      }
    },
    {
      "cell_type": "code",
      "source": [
        "mues1_100 = df.sample(100, random_state = 42)\n",
        "mues2_100 = df.sample(100, random_state = 42)\n",
        "mues3_100 = df.sample(100, random_state = 42)\n",
        "mues4_100 = df.sample(100, random_state = 42)\n",
        "mues5_100 = df.sample(100, random_state = 42)"
      ],
      "metadata": {
        "id": "irs4J--xTZDB"
      },
      "execution_count": 14,
      "outputs": []
    },
    {
      "cell_type": "markdown",
      "source": [
        "### Muestreo de tamaño 500"
      ],
      "metadata": {
        "id": "vzETBn2mjqBQ"
      }
    },
    {
      "cell_type": "code",
      "source": [
        "mues1_500 = df.sample(500, random_state = 42)\n",
        "mues2_500 = df.sample(500, random_state = 42)\n",
        "mues3_500 = df.sample(500, random_state = 42)\n",
        "mues4_500 = df.sample(500, random_state = 42)\n",
        "mues5_500 = df.sample(500, random_state = 42)"
      ],
      "metadata": {
        "id": "eqz5VOk_UE7J"
      },
      "execution_count": 15,
      "outputs": []
    },
    {
      "cell_type": "markdown",
      "source": [
        "### Muestreo de tamaño 1000"
      ],
      "metadata": {
        "id": "Ucw9AbQ6jsrT"
      }
    },
    {
      "cell_type": "code",
      "source": [
        "mues1_1000 = df.sample(1000, random_state = 42)\n",
        "mues2_1000 = df.sample(1000, random_state = 42)\n",
        "mues3_1000 = df.sample(1000, random_state = 42)\n",
        "mues4_1000 = df.sample(1000, random_state = 42)\n",
        "mues5_1000 = df.sample(1000, random_state = 42)"
      ],
      "metadata": {
        "id": "Z-mKffzfT7Y4"
      },
      "execution_count": 16,
      "outputs": []
    },
    {
      "cell_type": "code",
      "source": [
        "# crear una lista con las muestras obtenidas.\n",
        "\n",
        "muestras = [mues1_10,   mues2_10,   mues3_10,   mues4_10,   mues5_10,\n",
        "            mues1_30,   mues2_30,   mues3_30,   mues4_30,   mues5_30,\n",
        "            mues1_50,   mues2_50,   mues3_50,   mues4_50,   mues5_50,\n",
        "            mues1_100,  mues2_100,  mues3_100,  mues4_100,  mues5_100,\n",
        "            mues1_500,  mues2_500,  mues3_500,  mues4_500,  mues5_500,\n",
        "            mues1_1000, mues2_1000, mues3_1000, mues4_1000, mues5_1000]"
      ],
      "metadata": {
        "id": "BjMYqFtKStu9"
      },
      "execution_count": 17,
      "outputs": []
    },
    {
      "cell_type": "code",
      "source": [
        "# calcular la media de cada una de las variables en las muestras.\n",
        "\n",
        "medias = [np.array(f[names].mean()) for f in muestras]\n",
        "medias"
      ],
      "metadata": {
        "id": "-WajghRzgJMz",
        "colab": {
          "base_uri": "https://localhost:8080/"
        },
        "outputId": "6f24beca-45b2-4993-a901-b77b461cf26e"
      },
      "execution_count": 18,
      "outputs": [
        {
          "output_type": "execute_result",
          "data": {
            "text/plain": [
              "[array([ 3.841000e+00,  2.008900e+03,  6.750000e+01,  6.334000e-01,\n",
              "         6.753000e-01, -6.434000e+00,  7.000000e-01,  1.255400e-01,\n",
              "         2.223500e-01,  4.958000e-01,  1.250618e+02]),\n",
              " array([ 3.841000e+00,  2.008900e+03,  6.750000e+01,  6.334000e-01,\n",
              "         6.753000e-01, -6.434000e+00,  7.000000e-01,  1.255400e-01,\n",
              "         2.223500e-01,  4.958000e-01,  1.250618e+02]),\n",
              " array([ 3.841000e+00,  2.008900e+03,  6.750000e+01,  6.334000e-01,\n",
              "         6.753000e-01, -6.434000e+00,  7.000000e-01,  1.255400e-01,\n",
              "         2.223500e-01,  4.958000e-01,  1.250618e+02]),\n",
              " array([ 3.841000e+00,  2.008900e+03,  6.750000e+01,  6.334000e-01,\n",
              "         6.753000e-01, -6.434000e+00,  7.000000e-01,  1.255400e-01,\n",
              "         2.223500e-01,  4.958000e-01,  1.250618e+02]),\n",
              " array([ 3.841000e+00,  2.008900e+03,  6.750000e+01,  6.334000e-01,\n",
              "         6.753000e-01, -6.434000e+00,  7.000000e-01,  1.255400e-01,\n",
              "         2.223500e-01,  4.958000e-01,  1.250618e+02]),\n",
              " array([ 3.63633333e+00,  2.00856667e+03,  6.94333333e+01,  6.63000000e-01,\n",
              "         6.77566667e-01, -5.99670000e+00,  6.33333333e-01,  1.12310000e-01,\n",
              "         1.99256667e-01,  5.23153333e-01,  1.17212167e+02]),\n",
              " array([ 3.63633333e+00,  2.00856667e+03,  6.94333333e+01,  6.63000000e-01,\n",
              "         6.77566667e-01, -5.99670000e+00,  6.33333333e-01,  1.12310000e-01,\n",
              "         1.99256667e-01,  5.23153333e-01,  1.17212167e+02]),\n",
              " array([ 3.63633333e+00,  2.00856667e+03,  6.94333333e+01,  6.63000000e-01,\n",
              "         6.77566667e-01, -5.99670000e+00,  6.33333333e-01,  1.12310000e-01,\n",
              "         1.99256667e-01,  5.23153333e-01,  1.17212167e+02]),\n",
              " array([ 3.63633333e+00,  2.00856667e+03,  6.94333333e+01,  6.63000000e-01,\n",
              "         6.77566667e-01, -5.99670000e+00,  6.33333333e-01,  1.12310000e-01,\n",
              "         1.99256667e-01,  5.23153333e-01,  1.17212167e+02]),\n",
              " array([ 3.63633333e+00,  2.00856667e+03,  6.94333333e+01,  6.63000000e-01,\n",
              "         6.77566667e-01, -5.99670000e+00,  6.33333333e-01,  1.12310000e-01,\n",
              "         1.99256667e-01,  5.23153333e-01,  1.17212167e+02]),\n",
              " array([ 3.5730000e+00,  2.0093800e+03,  6.4720000e+01,  6.6676000e-01,\n",
              "         6.7700000e-01, -5.9581400e+00,  6.2000000e-01,  1.1839400e-01,\n",
              "         1.8900400e-01,  4.9785400e-01,  1.2039498e+02]),\n",
              " array([ 3.5730000e+00,  2.0093800e+03,  6.4720000e+01,  6.6676000e-01,\n",
              "         6.7700000e-01, -5.9581400e+00,  6.2000000e-01,  1.1839400e-01,\n",
              "         1.8900400e-01,  4.9785400e-01,  1.2039498e+02]),\n",
              " array([ 3.5730000e+00,  2.0093800e+03,  6.4720000e+01,  6.6676000e-01,\n",
              "         6.7700000e-01, -5.9581400e+00,  6.2000000e-01,  1.1839400e-01,\n",
              "         1.8900400e-01,  4.9785400e-01,  1.2039498e+02]),\n",
              " array([ 3.5730000e+00,  2.0093800e+03,  6.4720000e+01,  6.6676000e-01,\n",
              "         6.7700000e-01, -5.9581400e+00,  6.2000000e-01,  1.1839400e-01,\n",
              "         1.8900400e-01,  4.9785400e-01,  1.2039498e+02]),\n",
              " array([ 3.5730000e+00,  2.0093800e+03,  6.4720000e+01,  6.6676000e-01,\n",
              "         6.7700000e-01, -5.9581400e+00,  6.2000000e-01,  1.1839400e-01,\n",
              "         1.8900400e-01,  4.9785400e-01,  1.2039498e+02]),\n",
              " array([ 3.6005000e+00,  2.0088400e+03,  6.6100000e+01,  6.6648000e-01,\n",
              "         7.1188000e-01, -5.6044300e+00,  5.6000000e-01,  1.0800200e-01,\n",
              "         1.9176900e-01,  5.4539700e-01,  1.2110523e+02]),\n",
              " array([ 3.6005000e+00,  2.0088400e+03,  6.6100000e+01,  6.6648000e-01,\n",
              "         7.1188000e-01, -5.6044300e+00,  5.6000000e-01,  1.0800200e-01,\n",
              "         1.9176900e-01,  5.4539700e-01,  1.2110523e+02]),\n",
              " array([ 3.6005000e+00,  2.0088400e+03,  6.6100000e+01,  6.6648000e-01,\n",
              "         7.1188000e-01, -5.6044300e+00,  5.6000000e-01,  1.0800200e-01,\n",
              "         1.9176900e-01,  5.4539700e-01,  1.2110523e+02]),\n",
              " array([ 3.6005000e+00,  2.0088400e+03,  6.6100000e+01,  6.6648000e-01,\n",
              "         7.1188000e-01, -5.6044300e+00,  5.6000000e-01,  1.0800200e-01,\n",
              "         1.9176900e-01,  5.4539700e-01,  1.2110523e+02]),\n",
              " array([ 3.6005000e+00,  2.0088400e+03,  6.6100000e+01,  6.6648000e-01,\n",
              "         7.1188000e-01, -5.6044300e+00,  5.6000000e-01,  1.0800200e-01,\n",
              "         1.9176900e-01,  5.4539700e-01,  1.2110523e+02]),\n",
              " array([ 3.59742000e+00,  2.00890400e+03,  6.67020000e+01,  6.68292000e-01,\n",
              "         7.14547800e-01, -5.57554200e+00,  5.52000000e-01,  1.00913200e-01,\n",
              "         1.82245400e-01,  5.54911200e-01,  1.19889036e+02]),\n",
              " array([ 3.59742000e+00,  2.00890400e+03,  6.67020000e+01,  6.68292000e-01,\n",
              "         7.14547800e-01, -5.57554200e+00,  5.52000000e-01,  1.00913200e-01,\n",
              "         1.82245400e-01,  5.54911200e-01,  1.19889036e+02]),\n",
              " array([ 3.59742000e+00,  2.00890400e+03,  6.67020000e+01,  6.68292000e-01,\n",
              "         7.14547800e-01, -5.57554200e+00,  5.52000000e-01,  1.00913200e-01,\n",
              "         1.82245400e-01,  5.54911200e-01,  1.19889036e+02]),\n",
              " array([ 3.59742000e+00,  2.00890400e+03,  6.67020000e+01,  6.68292000e-01,\n",
              "         7.14547800e-01, -5.57554200e+00,  5.52000000e-01,  1.00913200e-01,\n",
              "         1.82245400e-01,  5.54911200e-01,  1.19889036e+02]),\n",
              " array([ 3.59742000e+00,  2.00890400e+03,  6.67020000e+01,  6.68292000e-01,\n",
              "         7.14547800e-01, -5.57554200e+00,  5.52000000e-01,  1.00913200e-01,\n",
              "         1.82245400e-01,  5.54911200e-01,  1.19889036e+02]),\n",
              " array([ 3.61733000e+00,  2.00905600e+03,  6.67860000e+01,  6.73428000e-01,\n",
              "         7.19807900e-01, -5.49270400e+00,  5.44000000e-01,  1.07708300e-01,\n",
              "         1.82166500e-01,  5.58072500e-01,  1.20315161e+02]),\n",
              " array([ 3.61733000e+00,  2.00905600e+03,  6.67860000e+01,  6.73428000e-01,\n",
              "         7.19807900e-01, -5.49270400e+00,  5.44000000e-01,  1.07708300e-01,\n",
              "         1.82166500e-01,  5.58072500e-01,  1.20315161e+02]),\n",
              " array([ 3.61733000e+00,  2.00905600e+03,  6.67860000e+01,  6.73428000e-01,\n",
              "         7.19807900e-01, -5.49270400e+00,  5.44000000e-01,  1.07708300e-01,\n",
              "         1.82166500e-01,  5.58072500e-01,  1.20315161e+02]),\n",
              " array([ 3.61733000e+00,  2.00905600e+03,  6.67860000e+01,  6.73428000e-01,\n",
              "         7.19807900e-01, -5.49270400e+00,  5.44000000e-01,  1.07708300e-01,\n",
              "         1.82166500e-01,  5.58072500e-01,  1.20315161e+02]),\n",
              " array([ 3.61733000e+00,  2.00905600e+03,  6.67860000e+01,  6.73428000e-01,\n",
              "         7.19807900e-01, -5.49270400e+00,  5.44000000e-01,  1.07708300e-01,\n",
              "         1.82166500e-01,  5.58072500e-01,  1.20315161e+02])]"
            ]
          },
          "metadata": {},
          "execution_count": 18
        }
      ]
    },
    {
      "cell_type": "code",
      "source": [
        "medias2 = [np.array([medias[0][i],\n",
        "                     medias[1][i],\n",
        "                     medias[2][i],\n",
        "                     medias[3][i],\n",
        "                     medias[4][i],\n",
        "                     medias[5][i],\n",
        "                     medias[6][i],\n",
        "                     medias[7][i],\n",
        "                     medias[8][i]]) for i in range(8)]"
      ],
      "metadata": {
        "id": "W9JVxxx_QG1k"
      },
      "execution_count": 19,
      "outputs": []
    },
    {
      "cell_type": "code",
      "source": [
        "mediaMedias = [m.mean() for m in medias2]\n",
        "mediaMedias"
      ],
      "metadata": {
        "colab": {
          "base_uri": "https://localhost:8080/"
        },
        "id": "SN4IwgWZrrAL",
        "outputId": "d0b1ef8b-57d0-4da7-b609-d5a84d8aee69"
      },
      "execution_count": 20,
      "outputs": [
        {
          "output_type": "execute_result",
          "data": {
            "text/plain": [
              "[3.7500370370370373,\n",
              " 2008.7518518518518,\n",
              " 68.35925925925926,\n",
              " 0.6465555555555556,\n",
              " 0.6763074074074074,\n",
              " -6.239644444444443,\n",
              " 0.6703703703703704,\n",
              " 0.11966]"
            ]
          },
          "metadata": {},
          "execution_count": 20
        }
      ]
    },
    {
      "cell_type": "code",
      "source": [
        "for i in range(8):\n",
        "    print(f\"La diferencia entre la media original y la media de medias de la variable {names[i]} es: {abs(df_mean[i] - mediaMedias[i])}\")"
      ],
      "metadata": {
        "colab": {
          "base_uri": "https://localhost:8080/"
        },
        "id": "FFfGw6Mngbmw",
        "outputId": "d0663e21-71e4-473a-dfb7-825f153ae87e"
      },
      "execution_count": 21,
      "outputs": [
        {
          "output_type": "stream",
          "name": "stdout",
          "text": [
            "La diferencia entre la media original y la media de medias de la variable duration_min es: 0.12658501203024208\n",
            "La diferencia entre la media original y la media de medias de la variable year es: 0.5900888929156736\n",
            "La diferencia entre la media original y la media de medias de la variable popularity es: 1.7319148721975637\n",
            "La diferencia entre la media original y la media de medias de la variable danceability es: 0.025169913321856696\n",
            "La diferencia entre la media original y la media de medias de la variable energy es: 0.04232537323950758\n",
            "La diferencia entre la media original y la media de medias de la variable loudness es: 0.7345096252000838\n",
            "La diferencia entre la media original y la media de medias de la variable mode es: 0.12185175118037306\n",
            "La diferencia entre la media original y la media de medias de la variable speechiness es: 0.013087154117966834\n"
          ]
        }
      ]
    },
    {
      "cell_type": "markdown",
      "source": [
        "## Intervalos de Confianza"
      ],
      "metadata": {
        "id": "gQtcQNMycjWE"
      }
    },
    {
      "cell_type": "code",
      "source": [
        "import scipy.stats as stats\n",
        "from scipy.stats import norm"
      ],
      "metadata": {
        "id": "XfMS7sjNgprV"
      },
      "execution_count": 22,
      "outputs": []
    },
    {
      "cell_type": "code",
      "source": [
        "# Error Estándar\n",
        "\n",
        "def ErrorEstandar(x):\n",
        "    return x.std() / np.sqrt(len(x))"
      ],
      "metadata": {
        "id": "9xm8bGMbPXpV"
      },
      "execution_count": 23,
      "outputs": []
    },
    {
      "cell_type": "code",
      "source": [
        "# Intervalos de Confianza\n",
        "\n",
        "def IntervaloConfianza(x, li, ls):\n",
        "    return x.mean() + (norm.ppf(li)) * ErrorEstandar(x) , x.mean() + (norm.ppf(ls)) * ErrorEstandar(x)"
      ],
      "metadata": {
        "id": "hvpiR30xRj7j"
      },
      "execution_count": 24,
      "outputs": []
    },
    {
      "cell_type": "markdown",
      "source": [
        "## duration_min"
      ],
      "metadata": {
        "id": "Uz9Bb2aeaHZs"
      }
    },
    {
      "cell_type": "code",
      "source": [
        "df['duration_min'].mean()"
      ],
      "metadata": {
        "colab": {
          "base_uri": "https://localhost:8080/"
        },
        "id": "05zHNRmJTRMV",
        "outputId": "c2558dc3-0f4e-423e-f0ac-36a64d5ae83f"
      },
      "execution_count": 25,
      "outputs": [
        {
          "output_type": "execute_result",
          "data": {
            "text/plain": [
              "3.623452025006795"
            ]
          },
          "metadata": {},
          "execution_count": 25
        }
      ]
    },
    {
      "cell_type": "markdown",
      "source": [
        "#### Con .025 y .975"
      ],
      "metadata": {
        "id": "ucaTI64QdiEi"
      }
    },
    {
      "cell_type": "code",
      "source": [
        "print(IntervaloConfianza(mues1_10['duration_min'], 0.025, 0.975))\n",
        "print(IntervaloConfianza(mues1_30['duration_min'], 0.025, 0.975))\n",
        "print(IntervaloConfianza(mues1_50['duration_min'], 0.025, 0.975))\n",
        "print(IntervaloConfianza(mues1_100['duration_min'], 0.025, 0.975))\n",
        "print(IntervaloConfianza(mues1_500['duration_min'], 0.025, 0.975))\n",
        "print(IntervaloConfianza(mues1_1000['duration_min'], 0.025, 0.975))"
      ],
      "metadata": {
        "colab": {
          "base_uri": "https://localhost:8080/"
        },
        "id": "UM2vMe_aUVSk",
        "outputId": "1c23f8f1-dfe1-45e6-da1d-cbdcf84ba16b"
      },
      "execution_count": 26,
      "outputs": [
        {
          "output_type": "stream",
          "name": "stdout",
          "text": [
            "(3.1678225095315717, 4.514177490468429)\n",
            "(3.367950948744208, 3.9047157179224596)\n",
            "(3.357283088714876, 3.788716911285124)\n",
            "(3.4492145560696628, 3.751785443930336)\n",
            "(3.5411783246728636, 3.6536616753271365)\n",
            "(3.577760605578287, 3.6568993944217127)\n"
          ]
        }
      ]
    },
    {
      "cell_type": "markdown",
      "source": [
        "### Con .005, .995"
      ],
      "metadata": {
        "id": "5lyMnuDednWS"
      }
    },
    {
      "cell_type": "code",
      "source": [
        "print(IntervaloConfianza(mues1_10['duration_min'], 0.005, 0.995))\n",
        "print(IntervaloConfianza(mues1_30['duration_min'], 0.005, 0.995))\n",
        "print(IntervaloConfianza(mues1_50['duration_min'], 0.005, 0.995))\n",
        "print(IntervaloConfianza(mues1_100['duration_min'],0.005, 0.995))\n",
        "print(IntervaloConfianza(mues1_500['duration_min'],0.005, 0.995))\n",
        "print(IntervaloConfianza(mues1_1000['duration_min'],0.005, 0.995))"
      ],
      "metadata": {
        "colab": {
          "base_uri": "https://localhost:8080/"
        },
        "id": "_78vz5HNdwlb",
        "outputId": "d80977e9-f550-4147-8ab4-140cdc825523"
      },
      "execution_count": 27,
      "outputs": [
        {
          "output_type": "stream",
          "name": "stdout",
          "text": [
            "(2.956294811478383, 4.7257051885216175)\n",
            "(3.283619091523819, 3.9890475751428487)\n",
            "(3.2894999225791, 3.8565000774209)\n",
            "(3.4016772243010815, 3.799322775698917)\n",
            "(3.523505909470261, 3.671334090529739)\n",
            "(3.5653270007208824, 3.6693329992791175)\n"
          ]
        }
      ]
    },
    {
      "cell_type": "markdown",
      "source": [
        "## year"
      ],
      "metadata": {
        "id": "3SsMzsR3aMyd"
      }
    },
    {
      "cell_type": "code",
      "source": [
        "df['year'].mean()"
      ],
      "metadata": {
        "colab": {
          "base_uri": "https://localhost:8080/"
        },
        "id": "xNp624x2UdPt",
        "outputId": "2af4f826-da75-4675-a68f-9192acb30ef0"
      },
      "execution_count": 28,
      "outputs": [
        {
          "output_type": "execute_result",
          "data": {
            "text/plain": [
              "2009.3419407447675"
            ]
          },
          "metadata": {},
          "execution_count": 28
        }
      ]
    },
    {
      "cell_type": "markdown",
      "source": [
        "#### Con .025 y .975"
      ],
      "metadata": {
        "id": "hOhq7Hi8c_7b"
      }
    },
    {
      "cell_type": "code",
      "source": [
        "print(IntervaloConfianza(mues1_10['year'], 0.025, 0.975))\n",
        "print(IntervaloConfianza(mues1_30['year'], 0.025, 0.975))\n",
        "print(IntervaloConfianza(mues1_50['year'], 0.025, 0.975))\n",
        "print(IntervaloConfianza(mues1_100['year'], 0.025, 0.975))\n",
        "print(IntervaloConfianza(mues1_500['year'], 0.025, 0.975))\n",
        "print(IntervaloConfianza(mues1_1000['year'], 0.025, 0.975))"
      ],
      "metadata": {
        "colab": {
          "base_uri": "https://localhost:8080/"
        },
        "id": "agx16-Gtac1x",
        "outputId": "287bfb91-17c1-4238-8376-30ab5daacf06"
      },
      "execution_count": 29,
      "outputs": [
        {
          "output_type": "stream",
          "name": "stdout",
          "text": [
            "(2005.3401480619677, 2012.4598519380324)\n",
            "(2006.5300652697217, 2010.6032680636115)\n",
            "(2007.7321737811433, 2011.027826218857)\n",
            "(2007.6627947970053, 2010.0172052029945)\n",
            "(2008.3756418756805, 2009.4323581243195)\n",
            "(2008.691502291015, 2009.420497708985)\n"
          ]
        }
      ]
    },
    {
      "cell_type": "markdown",
      "source": [
        "#### Con .005, .995"
      ],
      "metadata": {
        "id": "fbBRybGpevtc"
      }
    },
    {
      "cell_type": "code",
      "source": [
        "print(IntervaloConfianza(mues1_10['year'], 0.005, 0.995))\n",
        "print(IntervaloConfianza(mues1_30['year'], 0.005, 0.995))\n",
        "print(IntervaloConfianza(mues1_50['year'], 0.005, 0.995))\n",
        "print(IntervaloConfianza(mues1_100['year'],0.005, 0.995))\n",
        "print(IntervaloConfianza(mues1_500['year'],0.005, 0.995))\n",
        "print(IntervaloConfianza(mues1_1000['year'],0.005, 0.995))"
      ],
      "metadata": {
        "colab": {
          "base_uri": "https://localhost:8080/"
        },
        "id": "6fKuShnlek6E",
        "outputId": "c0698292-4c09-4fa9-bd77-026c32dcbe61"
      },
      "execution_count": 30,
      "outputs": [
        {
          "output_type": "stream",
          "name": "stdout",
          "text": [
            "(2004.221561513065, 2013.5784384869353)\n",
            "(2005.89011873044, 2011.2432146028932)\n",
            "(2007.214389256554, 2011.545610743446)\n",
            "(2007.292890113246, 2010.387109886754)\n",
            "(2008.2096197205021, 2009.5983802794979)\n",
            "(2008.5769688099958, 2009.5350311900042)\n"
          ]
        }
      ]
    },
    {
      "cell_type": "markdown",
      "source": [
        "## popularity"
      ],
      "metadata": {
        "id": "D65_AyqXao55"
      }
    },
    {
      "cell_type": "code",
      "source": [
        "df['popularity'].mean()"
      ],
      "metadata": {
        "colab": {
          "base_uri": "https://localhost:8080/"
        },
        "id": "vKpTUUXoalOG",
        "outputId": "45fcb6ac-c2da-4421-a5e9-e33e7204ab56"
      },
      "execution_count": 31,
      "outputs": [
        {
          "output_type": "execute_result",
          "data": {
            "text/plain": [
              "66.6273443870617"
            ]
          },
          "metadata": {},
          "execution_count": 31
        }
      ]
    },
    {
      "cell_type": "markdown",
      "source": [
        "#### Con .025 y .975"
      ],
      "metadata": {
        "id": "RqxjFYjGdGQo"
      }
    },
    {
      "cell_type": "code",
      "source": [
        "print(IntervaloConfianza(mues1_10['popularity'], 0.025, 0.975))\n",
        "print(IntervaloConfianza(mues1_30['popularity'], 0.025, 0.975))\n",
        "print(IntervaloConfianza(mues1_50['popularity'], 0.025, 0.975))\n",
        "print(IntervaloConfianza(mues1_100['popularity'], 0.025, 0.975))\n",
        "print(IntervaloConfianza(mues1_500['popularity'], 0.025, 0.975))\n",
        "print(IntervaloConfianza(mues1_1000['popularity'], 0.025, 0.975))"
      ],
      "metadata": {
        "colab": {
          "base_uri": "https://localhost:8080/"
        },
        "id": "FDLlT_-0atXi",
        "outputId": "4c20a036-9211-4d76-a9ef-1b2e8e5091f3"
      },
      "execution_count": 32,
      "outputs": [
        {
          "output_type": "stream",
          "name": "stdout",
          "text": [
            "(51.61676552681601, 83.38323447318399)\n",
            "(61.69569961884112, 77.17096704782556)\n",
            "(57.41475447791805, 72.02524552208195)\n",
            "(61.4824629336164, 70.71753706638358)\n",
            "(64.72587072867064, 68.67812927132935)\n",
            "(65.34723013126758, 68.22476986873242)\n"
          ]
        }
      ]
    },
    {
      "cell_type": "markdown",
      "source": [
        "#### Con .005, .995"
      ],
      "metadata": {
        "id": "WDVpw_Uqhbil"
      }
    },
    {
      "cell_type": "code",
      "source": [
        "print(IntervaloConfianza(mues1_10['popularity'], 0.005, 0.995))\n",
        "print(IntervaloConfianza(mues1_30['popularity'], 0.005, 0.995))\n",
        "print(IntervaloConfianza(mues1_50['popularity'], 0.005, 0.995))\n",
        "print(IntervaloConfianza(mues1_100['popularity'],0.005, 0.995))\n",
        "print(IntervaloConfianza(mues1_500['popularity'],0.005, 0.995))\n",
        "print(IntervaloConfianza(mues1_1000['popularity'],0.005, 0.995))"
      ],
      "metadata": {
        "colab": {
          "base_uri": "https://localhost:8080/"
        },
        "id": "VjyMjI8EfUIj",
        "outputId": "7122490e-d287-4661-e74d-8224b2c0b6e6"
      },
      "execution_count": 33,
      "outputs": [
        {
          "output_type": "stream",
          "name": "stdout",
          "text": [
            "(46.62589153990686, 88.37410846009314)\n",
            "(59.26435889343098, 79.6023077732357)\n",
            "(55.119279969517464, 74.32072003048253)\n",
            "(60.0315276302869, 72.16847236971309)\n",
            "(64.10492590841388, 69.29907409158612)\n",
            "(64.89513587281355, 68.67686412718645)\n"
          ]
        }
      ]
    },
    {
      "cell_type": "markdown",
      "source": [
        "## danceability"
      ],
      "metadata": {
        "id": "ePp980iUPASx"
      }
    },
    {
      "cell_type": "code",
      "source": [
        "df['danceability'].mean()"
      ],
      "metadata": {
        "colab": {
          "base_uri": "https://localhost:8080/"
        },
        "id": "QCvD_jrXO_jW",
        "outputId": "f17fcab3-f1be-4c88-9505-ec3f8305d81e"
      },
      "execution_count": 34,
      "outputs": [
        {
          "output_type": "execute_result",
          "data": {
            "text/plain": [
              "0.6717254688774122"
            ]
          },
          "metadata": {},
          "execution_count": 34
        }
      ]
    },
    {
      "cell_type": "code",
      "source": [
        "print(IntervaloConfianza(mues1_10['danceability'], 0.025, 0.975))\n",
        "print(IntervaloConfianza(mues1_30['danceability'], 0.025, 0.975))\n",
        "print(IntervaloConfianza(mues1_50['danceability'], 0.025, 0.975))\n",
        "print(IntervaloConfianza(mues1_100['danceability'], 0.025, 0.975))\n",
        "print(IntervaloConfianza(mues1_500['danceability'], 0.025, 0.975))\n",
        "print(IntervaloConfianza(mues1_1000['danceability'], 0.025, 0.975))"
      ],
      "metadata": {
        "colab": {
          "base_uri": "https://localhost:8080/"
        },
        "id": "e4AjbsfTPZJ4",
        "outputId": "89c85234-c441-4166-9ed3-a24f20e8734c"
      },
      "execution_count": 35,
      "outputs": [
        {
          "output_type": "stream",
          "name": "stdout",
          "text": [
            "(0.5214304826666167, 0.7453695173333832)\n",
            "(0.6056613257010084, 0.7203386742989917)\n",
            "(0.6201945217751111, 0.7133254782248887)\n",
            "(0.6355316272322009, 0.6974283727677988)\n",
            "(0.655604049426735, 0.680979950573265)\n",
            "(0.6645215672954992, 0.6823344327045009)\n"
          ]
        }
      ]
    },
    {
      "cell_type": "markdown",
      "source": [
        "## energy"
      ],
      "metadata": {
        "id": "JGmoawSCa4mU"
      }
    },
    {
      "cell_type": "code",
      "source": [
        "df['energy'].mean()"
      ],
      "metadata": {
        "colab": {
          "base_uri": "https://localhost:8080/"
        },
        "id": "bf2vqpZ1a1r5",
        "outputId": "dff51150-a4d0-441d-dd2d-2b5c6949c5ce"
      },
      "execution_count": 36,
      "outputs": [
        {
          "output_type": "execute_result",
          "data": {
            "text/plain": [
              "0.7186327806469149"
            ]
          },
          "metadata": {},
          "execution_count": 36
        }
      ]
    },
    {
      "cell_type": "markdown",
      "source": [
        "#### Con .025 y .975"
      ],
      "metadata": {
        "id": "YnbGrTpLdL4x"
      }
    },
    {
      "cell_type": "code",
      "source": [
        "print(IntervaloConfianza(mues1_10['energy'], 0.025, 0.975))\n",
        "print(IntervaloConfianza(mues1_30['energy'], 0.025, 0.975))\n",
        "print(IntervaloConfianza(mues1_50['energy'], 0.025, 0.975))\n",
        "print(IntervaloConfianza(mues1_100['energy'], 0.025, 0.975))\n",
        "print(IntervaloConfianza(mues1_500['energy'], 0.025, 0.975))\n",
        "print(IntervaloConfianza(mues1_1000['energy'], 0.025, 0.975))"
      ],
      "metadata": {
        "colab": {
          "base_uri": "https://localhost:8080/"
        },
        "id": "mfEf_lkua89V",
        "outputId": "31175395-ce9a-4cfd-a6c7-31ebd0cba6b3"
      },
      "execution_count": 37,
      "outputs": [
        {
          "output_type": "stream",
          "name": "stdout",
          "text": [
            "(0.5713672537619816, 0.7792327462380183)\n",
            "(0.6243845711402072, 0.7307487621931259)\n",
            "(0.6330226207889779, 0.720977379211022)\n",
            "(0.682964788409366, 0.7407952115906341)\n",
            "(0.7011869356718372, 0.7279086643281627)\n",
            "(0.7106144428517399, 0.7290013571482602)\n"
          ]
        }
      ]
    },
    {
      "cell_type": "markdown",
      "source": [
        "#### Con .005, .995"
      ],
      "metadata": {
        "id": "0vhZf7Jyhmx1"
      }
    },
    {
      "cell_type": "code",
      "source": [
        "print(IntervaloConfianza(mues1_10['energy'], 0.005, 0.995))\n",
        "print(IntervaloConfianza(mues1_30['energy'], 0.005, 0.995))\n",
        "print(IntervaloConfianza(mues1_50['energy'], 0.005, 0.995))\n",
        "print(IntervaloConfianza(mues1_100['energy'],0.005, 0.995))\n",
        "print(IntervaloConfianza(mues1_500['energy'],0.005, 0.995))\n",
        "print(IntervaloConfianza(mues1_1000['energy'],0.005, 0.995))"
      ],
      "metadata": {
        "colab": {
          "base_uri": "https://localhost:8080/"
        },
        "id": "igY-i6uffjwi",
        "outputId": "7e3b063f-1599-40e7-89d7-3795f977acf5"
      },
      "execution_count": 38,
      "outputs": [
        {
          "output_type": "stream",
          "name": "stdout",
          "text": [
            "(0.5387092179907971, 0.811890782009203)\n",
            "(0.6076735455880473, 0.7474597877452858)\n",
            "(0.619203926725921, 0.7347960732740789)\n",
            "(0.6738789704295763, 0.7498810295704238)\n",
            "(0.6969886478274671, 0.7321069521725329)\n",
            "(0.7077256492493736, 0.7318901507506265)\n"
          ]
        }
      ]
    },
    {
      "cell_type": "markdown",
      "source": [
        "## loudness"
      ],
      "metadata": {
        "id": "_vNBfu9OPGZZ"
      }
    },
    {
      "cell_type": "code",
      "source": [
        "df['loudness'].mean()"
      ],
      "metadata": {
        "id": "5DJr7uvkPI4v",
        "colab": {
          "base_uri": "https://localhost:8080/"
        },
        "outputId": "98a570df-623e-4243-a57a-c93984e9c390"
      },
      "execution_count": 39,
      "outputs": [
        {
          "output_type": "execute_result",
          "data": {
            "text/plain": [
              "-5.505134819244359"
            ]
          },
          "metadata": {},
          "execution_count": 39
        }
      ]
    },
    {
      "cell_type": "markdown",
      "source": [
        "#### Con .025 y .975"
      ],
      "metadata": {
        "id": "wsY89C4dQLiQ"
      }
    },
    {
      "cell_type": "code",
      "source": [
        "print(IntervaloConfianza(mues1_10['loudness'], 0.025, 0.975))\n",
        "print(IntervaloConfianza(mues1_30['loudness'], 0.025, 0.975))\n",
        "print(IntervaloConfianza(mues1_50['loudness'], 0.025, 0.975))\n",
        "print(IntervaloConfianza(mues1_100['loudness'], 0.025, 0.975))\n",
        "print(IntervaloConfianza(mues1_500['loudness'], 0.025, 0.975))\n",
        "print(IntervaloConfianza(mues1_1000['loudness'], 0.025, 0.975))"
      ],
      "metadata": {
        "colab": {
          "base_uri": "https://localhost:8080/"
        },
        "id": "X7gUDVboQJTC",
        "outputId": "5c282755-87f9-468a-d085-310d358d4b4e"
      },
      "execution_count": 40,
      "outputs": [
        {
          "output_type": "stream",
          "name": "stdout",
          "text": [
            "(-7.608413261640653, -5.259586738359347)\n",
            "(-6.624393998000238, -5.369006001999762)\n",
            "(-6.502525723872164, -5.413754276127838)\n",
            "(-5.965051241806106, -5.243808758193895)\n",
            "(-5.749582197772237, -5.401501802227762)\n",
            "(-5.610895041318292, -5.3745129586817075)\n"
          ]
        }
      ]
    },
    {
      "cell_type": "markdown",
      "source": [
        "#### Con .005, .995"
      ],
      "metadata": {
        "id": "m-wFxoW7QXxE"
      }
    },
    {
      "cell_type": "code",
      "source": [
        "print(IntervaloConfianza(mues1_10['loudness'], 0.005, 0.995))\n",
        "print(IntervaloConfianza(mues1_30['loudness'], 0.005, 0.995))\n",
        "print(IntervaloConfianza(mues1_50['loudness'], 0.005, 0.995))\n",
        "print(IntervaloConfianza(mues1_100['loudness'],0.005, 0.995))\n",
        "print(IntervaloConfianza(mues1_500['loudness'],0.005, 0.995))\n",
        "print(IntervaloConfianza(mues1_1000['loudness'],0.005, 0.995))"
      ],
      "metadata": {
        "colab": {
          "base_uri": "https://localhost:8080/"
        },
        "id": "8NQyysBSQZ5R",
        "outputId": "634e6a63-8602-40da-9600-66cc28cbea09"
      },
      "execution_count": 41,
      "outputs": [
        {
          "output_type": "stream",
          "name": "stdout",
          "text": [
            "(-7.977440653844633, -4.890559346155365)\n",
            "(-6.82162974690563, -5.171770253094369)\n",
            "(-6.673584115832907, -5.242695884167095)\n",
            "(-6.078366648557522, -5.130493351442478)\n",
            "(-5.804269591401317, -5.346814408598682)\n",
            "(-5.64803335811372, -5.33737464188628)\n"
          ]
        }
      ]
    },
    {
      "cell_type": "markdown",
      "source": [
        "## mode"
      ],
      "metadata": {
        "id": "yynvuiB-b1mR"
      }
    },
    {
      "cell_type": "code",
      "source": [
        "df['mode'].mean()"
      ],
      "metadata": {
        "colab": {
          "base_uri": "https://localhost:8080/"
        },
        "id": "SKwZUkLZbIls",
        "outputId": "5602a544-e458-4072-98c5-7714ecf6dcc3"
      },
      "execution_count": null,
      "outputs": [
        {
          "output_type": "execute_result",
          "data": {
            "text/plain": [
              "0.5486148832156437"
            ]
          },
          "metadata": {},
          "execution_count": 42
        }
      ]
    },
    {
      "cell_type": "markdown",
      "source": [
        "#### Con .025 y .975"
      ],
      "metadata": {
        "id": "glBBZghVQmjq"
      }
    },
    {
      "cell_type": "code",
      "source": [
        "print(IntervaloConfianza(mues1_10['mode'], 0.025, 0.975))\n",
        "print(IntervaloConfianza(mues1_30['mode'], 0.025, 0.975))\n",
        "print(IntervaloConfianza(mues1_50['mode'], 0.025, 0.975))\n",
        "print(IntervaloConfianza(mues1_100['mode'], 0.025, 0.975))\n",
        "print(IntervaloConfianza(mues1_500['mode'], 0.025, 0.975))\n",
        "print(IntervaloConfianza(mues1_1000['mode'], 0.025, 0.975))"
      ],
      "metadata": {
        "colab": {
          "base_uri": "https://localhost:8080/"
        },
        "id": "Rd79SU7oQolT",
        "outputId": "fbe44846-335a-45a4-8039-69777c9f3d4d"
      },
      "execution_count": 42,
      "outputs": [
        {
          "output_type": "stream",
          "name": "stdout",
          "text": [
            "(0.4006105560485981, 0.9993894439514017)\n",
            "(0.45794488721554605, 0.8087217794511206)\n",
            "(0.48409429303061746, 0.7559057069693825)\n",
            "(0.46221981705913096, 0.6577801829408692)\n",
            "(0.5083678750724179, 0.5956321249275822)\n",
            "(0.5131150275632455, 0.5748849724367545)\n"
          ]
        }
      ]
    },
    {
      "cell_type": "markdown",
      "source": [
        "#### Con .005, .995"
      ],
      "metadata": {
        "id": "kWsu4SuddOKo"
      }
    },
    {
      "cell_type": "code",
      "source": [
        "print(IntervaloConfianza(mues1_10['mode'], 0.005, 0.995))\n",
        "print(IntervaloConfianza(mues1_30['mode'], 0.005, 0.995))\n",
        "print(IntervaloConfianza(mues1_50['mode'], 0.005, 0.995))\n",
        "print(IntervaloConfianza(mues1_100['mode'],0.005, 0.995))\n",
        "print(IntervaloConfianza(mues1_500['mode'],0.005, 0.995))\n",
        "print(IntervaloConfianza(mues1_1000['mode'],0.005, 0.995))"
      ],
      "metadata": {
        "colab": {
          "base_uri": "https://localhost:8080/"
        },
        "id": "LCY9_H2qb4VG",
        "outputId": "1f3cf7cf-daa2-403c-b8d1-3c2f481cbb24"
      },
      "execution_count": 43,
      "outputs": [
        {
          "output_type": "stream",
          "name": "stdout",
          "text": [
            "(0.3065355746400593, 1.0934644253599406)\n",
            "(0.40283384325208005, 0.8638328234145864)\n",
            "(0.4413896248642463, 0.7986103751357536)\n",
            "(0.4314950567907664, 0.6885049432092336)\n",
            "(0.49465766776783554, 0.6093423322321645)\n",
            "(0.5034102658674305, 0.5845897341325695)\n"
          ]
        }
      ]
    },
    {
      "cell_type": "markdown",
      "source": [
        "## speechiness"
      ],
      "metadata": {
        "id": "Wd6Uj8cfcSny"
      }
    },
    {
      "cell_type": "code",
      "source": [
        "df['speechiness'].mean()"
      ],
      "metadata": {
        "colab": {
          "base_uri": "https://localhost:8080/"
        },
        "id": "np61_6v1cKzO",
        "outputId": "ed0fcfa0-ad7a-481d-a9c9-9628e35b41ff"
      },
      "execution_count": null,
      "outputs": [
        {
          "output_type": "execute_result",
          "data": {
            "text/plain": [
              "0.1065175719717545"
            ]
          },
          "metadata": {},
          "execution_count": 45
        }
      ]
    },
    {
      "cell_type": "markdown",
      "source": [
        "#### Con .025 y .975"
      ],
      "metadata": {
        "id": "_1qwMkptdPXu"
      }
    },
    {
      "cell_type": "code",
      "source": [
        "print(IntervaloConfianza(mues1_10['speechiness'], 0.025, 0.975))\n",
        "print(IntervaloConfianza(mues1_30['speechiness'], 0.025, 0.975))\n",
        "print(IntervaloConfianza(mues1_50['speechiness'], 0.025, 0.975))\n",
        "print(IntervaloConfianza(mues1_100['speechiness'], 0.025, 0.975))\n",
        "print(IntervaloConfianza(mues1_500['speechiness'], 0.025, 0.975))\n",
        "print(IntervaloConfianza(mues1_1000['speechiness'], 0.025, 0.975))"
      ],
      "metadata": {
        "colab": {
          "base_uri": "https://localhost:8080/"
        },
        "id": "g7podCR4cWZi",
        "outputId": "db764783-6630-4bc2-8455-d144257fe7f7"
      },
      "execution_count": 45,
      "outputs": [
        {
          "output_type": "stream",
          "name": "stdout",
          "text": [
            "(0.05110674698147698, 0.19997325301852298)\n",
            "(0.07624268206400751, 0.1483773179359925)\n",
            "(0.0889436708247164, 0.1478443291752836)\n",
            "(0.08870522522169245, 0.1272987747783076)\n",
            "(0.09295706584215854, 0.10886933415784146)\n",
            "(0.10177284861228764, 0.11364375138771238)\n"
          ]
        }
      ]
    },
    {
      "cell_type": "markdown",
      "source": [
        "#### Con .005, .995"
      ],
      "metadata": {
        "id": "NKII1-sPht7Y"
      }
    },
    {
      "cell_type": "code",
      "source": [
        "print(IntervaloConfianza(mues1_10['speechiness'], 0.005, 0.995))\n",
        "print(IntervaloConfianza(mues1_30['speechiness'], 0.005, 0.995))\n",
        "print(IntervaloConfianza(mues1_50['speechiness'], 0.005, 0.995))\n",
        "print(IntervaloConfianza(mues1_100['speechiness'],0.005, 0.995))\n",
        "print(IntervaloConfianza(mues1_500['speechiness'],0.005, 0.995))\n",
        "print(IntervaloConfianza(mues1_1000['speechiness'],0.005, 0.995))"
      ],
      "metadata": {
        "colab": {
          "base_uri": "https://localhost:8080/"
        },
        "id": "sDSUoADOf_ps",
        "outputId": "91f0472a-5a6f-4f50-cb28-87b9cbe98399"
      },
      "execution_count": null,
      "outputs": [
        {
          "output_type": "stream",
          "name": "stdout",
          "text": [
            "(0.028906161725148552, 0.12501383827485144)\n",
            "(0.05181561112191127, 0.13709105554475542)\n",
            "(0.06169865826785939, 0.12328534173214062)\n",
            "(0.07818788242467059, 0.12199011757532943)\n",
            "(0.091602676034829, 0.11244972396517097)\n",
            "(0.09434691030478862, 0.10886028969521139)\n"
          ]
        }
      ]
    },
    {
      "cell_type": "markdown",
      "source": [
        "## liveness"
      ],
      "metadata": {
        "id": "ZyQrOPgYPLGL"
      }
    },
    {
      "cell_type": "code",
      "source": [
        "df['liveness'].mean()"
      ],
      "metadata": {
        "id": "5CFlnI42POtZ",
        "colab": {
          "base_uri": "https://localhost:8080/"
        },
        "outputId": "5c9fe441-9f37-4f55-e036-30c5b2f50c83"
      },
      "execution_count": 44,
      "outputs": [
        {
          "output_type": "execute_result",
          "data": {
            "text/plain": [
              "0.18115819516172874"
            ]
          },
          "metadata": {},
          "execution_count": 44
        }
      ]
    },
    {
      "cell_type": "markdown",
      "source": [
        "#### Con .025 y .975"
      ],
      "metadata": {
        "id": "T9hE8wqsRSyW"
      }
    },
    {
      "cell_type": "code",
      "source": [
        "print(IntervaloConfianza(mues1_10['liveness'], 0.025, 0.975))\n",
        "print(IntervaloConfianza(mues1_30['liveness'], 0.025, 0.975))\n",
        "print(IntervaloConfianza(mues1_50['liveness'], 0.025, 0.975))\n",
        "print(IntervaloConfianza(mues1_100['liveness'], 0.025, 0.975))\n",
        "print(IntervaloConfianza(mues1_500['liveness'], 0.025, 0.975))\n",
        "print(IntervaloConfianza(mues1_1000['liveness'], 0.025, 0.975))"
      ],
      "metadata": {
        "colab": {
          "base_uri": "https://localhost:8080/"
        },
        "id": "Wo7pOHl2RU87",
        "outputId": "f394bb7f-fbf1-4f69-927d-9386b5a89687"
      },
      "execution_count": 46,
      "outputs": [
        {
          "output_type": "stream",
          "name": "stdout",
          "text": [
            "(0.07517510141522843, 0.36952489858477156)\n",
            "(0.1346996318447825, 0.2638137014885509)\n",
            "(0.14341029157493773, 0.23459770842506225)\n",
            "(0.16089849904609435, 0.22263950095390564)\n",
            "(0.16969906717054054, 0.19479173282945952)\n",
            "(0.17313379660895167, 0.19119920339104834)\n"
          ]
        }
      ]
    },
    {
      "cell_type": "markdown",
      "source": [
        "#### Con .005, .995"
      ],
      "metadata": {
        "id": "0mAZNrRyRdBT"
      }
    },
    {
      "cell_type": "code",
      "source": [
        "print(IntervaloConfianza(mues1_10['liveness'], 0.005, 0.995))\n",
        "print(IntervaloConfianza(mues1_30['liveness'], 0.005, 0.995))\n",
        "print(IntervaloConfianza(mues1_50['liveness'], 0.005, 0.995))\n",
        "print(IntervaloConfianza(mues1_100['liveness'],0.005, 0.995))\n",
        "print(IntervaloConfianza(mues1_500['liveness'],0.005, 0.995))\n",
        "print(IntervaloConfianza(mues1_1000['liveness'],0.005, 0.995))"
      ],
      "metadata": {
        "colab": {
          "base_uri": "https://localhost:8080/"
        },
        "id": "rFXZSvkiRnGX",
        "outputId": "fda57724-a2da-441b-bfbe-6b511b32eae7"
      },
      "execution_count": 47,
      "outputs": [
        {
          "output_type": "stream",
          "name": "stdout",
          "text": [
            "(0.02892939660536406, 0.4157706033946359)\n",
            "(0.11441434131982677, 0.28409899201350663)\n",
            "(0.12908371006349903, 0.24892428993650095)\n",
            "(0.1511982846197555, 0.23233971538024448)\n",
            "(0.16575672367272393, 0.19873407632727613)\n",
            "(0.17029551549801294, 0.19403748450198707)\n"
          ]
        }
      ]
    },
    {
      "cell_type": "markdown",
      "source": [
        "## valence"
      ],
      "metadata": {
        "id": "Qv7MFveYg2vt"
      }
    },
    {
      "cell_type": "code",
      "source": [
        "df['valence'].mean()"
      ],
      "metadata": {
        "colab": {
          "base_uri": "https://localhost:8080/"
        },
        "id": "a7KI2pj_ceXw",
        "outputId": "c9c9e03f-e4f4-41ad-c9e7-bddcda282d0b"
      },
      "execution_count": null,
      "outputs": [
        {
          "output_type": "execute_result",
          "data": {
            "text/plain": [
              "0.5533697447039653"
            ]
          },
          "metadata": {},
          "execution_count": 48
        }
      ]
    },
    {
      "cell_type": "markdown",
      "source": [
        "#### Con .025 y .975"
      ],
      "metadata": {
        "id": "DANNjIb3dQZ1"
      }
    },
    {
      "cell_type": "code",
      "source": [
        "print(IntervaloConfianza(mues1_10['valence'], 0.025, 0.975))\n",
        "print(IntervaloConfianza(mues1_30['valence'], 0.025, 0.975))\n",
        "print(IntervaloConfianza(mues1_50['valence'], 0.025, 0.975))\n",
        "print(IntervaloConfianza(mues1_100['valence'], 0.025, 0.975))\n",
        "print(IntervaloConfianza(mues1_500['valence'], 0.025, 0.975))\n",
        "print(IntervaloConfianza(mues1_1000['valence'], 0.025, 0.975))"
      ],
      "metadata": {
        "colab": {
          "base_uri": "https://localhost:8080/"
        },
        "id": "IPJy8-fhcstA",
        "outputId": "f9db2aac-137f-4216-c51d-04284c5f1778"
      },
      "execution_count": null,
      "outputs": [
        {
          "output_type": "stream",
          "name": "stdout",
          "text": [
            "(0.439128443325006, 0.6870715566749941)\n",
            "(0.4918095527684498, 0.6323237805648834)\n",
            "(0.5014442623663236, 0.6168357376336764)\n",
            "(0.5428338433239264, 0.6239861566760738)\n",
            "(0.5458794002001148, 0.584211399799885)\n",
            "(0.5447218108019771, 0.572330189198023)\n"
          ]
        }
      ]
    },
    {
      "cell_type": "markdown",
      "source": [
        "#### Con .005, .995"
      ],
      "metadata": {
        "id": "SIg7MYIwhwkY"
      }
    },
    {
      "cell_type": "code",
      "source": [
        "print(IntervaloConfianza(mues1_10['valence'], 0.005, 0.995))\n",
        "print(IntervaloConfianza(mues1_30['valence'], 0.005, 0.995))\n",
        "print(IntervaloConfianza(mues1_50['valence'], 0.005, 0.995))\n",
        "print(IntervaloConfianza(mues1_100['valence'],0.005, 0.995))\n",
        "print(IntervaloConfianza(mues1_500['valence'],0.005, 0.995))\n",
        "print(IntervaloConfianza(mues1_1000['valence'],0.005, 0.995))"
      ],
      "metadata": {
        "colab": {
          "base_uri": "https://localhost:8080/"
        },
        "id": "JwY6P5-4g6kK",
        "outputId": "6051a62e-71f7-4a54-c8e2-58c53b5b9734"
      },
      "execution_count": null,
      "outputs": [
        {
          "output_type": "stream",
          "name": "stdout",
          "text": [
            "(0.4001737569624474, 0.7260262430375527)\n",
            "(0.4697331675874639, 0.6544001657458693)\n",
            "(0.48331494767304706, 0.6349650523269529)\n",
            "(0.5300838908387906, 0.6367361091612096)\n",
            "(0.5398570065877905, 0.5902337934122094)\n",
            "(0.5403842201874772, 0.5766677798125229)\n"
          ]
        }
      ]
    },
    {
      "cell_type": "markdown",
      "source": [
        "## Tempo"
      ],
      "metadata": {
        "id": "r6uNj0Xsc0kK"
      }
    },
    {
      "cell_type": "code",
      "source": [
        "df['tempo'].mean()"
      ],
      "metadata": {
        "colab": {
          "base_uri": "https://localhost:8080/"
        },
        "id": "IQvaFQNyczYt",
        "outputId": "07affa4d-c886-4bbd-d5e9-547b2cb61649"
      },
      "execution_count": null,
      "outputs": [
        {
          "output_type": "execute_result",
          "data": {
            "text/plain": [
              "119.7226588810429"
            ]
          },
          "metadata": {},
          "execution_count": 51
        }
      ]
    },
    {
      "cell_type": "markdown",
      "source": [
        "#### Con .025 y .975"
      ],
      "metadata": {
        "id": "8EhAZeYbdRjB"
      }
    },
    {
      "cell_type": "code",
      "source": [
        "print(IntervaloConfianza(mues1_10['tempo'], 0.025, 0.975))\n",
        "print(IntervaloConfianza(mues1_30['tempo'], 0.025, 0.975))\n",
        "print(IntervaloConfianza(mues1_50['tempo'], 0.025, 0.975))\n",
        "print(IntervaloConfianza(mues1_100['tempo'], 0.025, 0.975))\n",
        "print(IntervaloConfianza(mues1_500['tempo'], 0.025, 0.975))\n",
        "print(IntervaloConfianza(mues1_1000['tempo'], 0.025, 0.975))"
      ],
      "metadata": {
        "colab": {
          "base_uri": "https://localhost:8080/"
        },
        "id": "n7a7r7jGc3ci",
        "outputId": "5b563903-c0cd-4369-a4c8-ae18640770d3"
      },
      "execution_count": null,
      "outputs": [
        {
          "output_type": "stream",
          "name": "stdout",
          "text": [
            "(93.30492089037088, 122.64587910962913)\n",
            "(110.92932091306918, 130.2637457535975)\n",
            "(115.4683852434519, 129.57089475654814)\n",
            "(114.10551347483207, 124.49238652516792)\n",
            "(118.01603661245225, 122.80861138754777)\n",
            "(117.44924962725575, 120.79068837274427)\n"
          ]
        }
      ]
    },
    {
      "cell_type": "markdown",
      "source": [
        "#### Con .005, .995"
      ],
      "metadata": {
        "id": "XrglBpdZhyjN"
      }
    },
    {
      "cell_type": "code",
      "source": [
        "print(IntervaloConfianza(mues1_10['tempo'], 0.005, 0.995))\n",
        "print(IntervaloConfianza(mues1_30['tempo'], 0.005, 0.995))\n",
        "print(IntervaloConfianza(mues1_50['tempo'], 0.005, 0.995))\n",
        "print(IntervaloConfianza(mues1_100['tempo'],0.005, 0.995))\n",
        "print(IntervaloConfianza(mues1_500['tempo'],0.005, 0.995))\n",
        "print(IntervaloConfianza(mues1_1000['tempo'],0.005, 0.995))"
      ],
      "metadata": {
        "colab": {
          "base_uri": "https://localhost:8080/"
        },
        "id": "uR4OiBZqc94d",
        "outputId": "c25b62c6-d0e0-4ba8-b323-4333cc613482"
      },
      "execution_count": null,
      "outputs": [
        {
          "output_type": "stream",
          "name": "stdout",
          "text": [
            "(88.69512225726763, 127.25567774273239)\n",
            "(107.8916626152156, 133.30140405145107)\n",
            "(113.25272041781827, 131.78655958218178)\n",
            "(112.47361744635717, 126.12428255364281)\n",
            "(117.26306854364597, 123.56157945635405)\n",
            "(116.92427155235971, 121.31566644764031)\n"
          ]
        }
      ]
    }
  ]
}